{
 "cells": [
  {
   "cell_type": "code",
   "execution_count": 1,
   "metadata": {
    "collapsed": false
   },
   "outputs": [],
   "source": [
    "import warnings\n",
    "warnings.filterwarnings('ignore')\n",
    "import numpy as np\n",
    "import matplotlib.pyplot as plt\n",
    "%matplotlib inline"
   ]
  },
  {
   "cell_type": "markdown",
   "metadata": {},
   "source": [
    "First we'll generate a random matrix"
   ]
  },
  {
   "cell_type": "code",
   "execution_count": 16,
   "metadata": {
    "collapsed": false
   },
   "outputs": [
    {
     "data": {
      "text/plain": [
       "array([[ 0.76712663,  0.86977784,  0.26403185,  0.77836171,  0.24706932],\n",
       "       [ 0.04339705,  0.77415369,  0.89485502,  0.19717697,  0.1966643 ],\n",
       "       [ 0.95360025,  0.06888269,  0.29047225,  0.26944452,  0.87480345],\n",
       "       ..., \n",
       "       [ 0.62693768,  0.59519106,  0.53560735,  0.74987729,  0.32263386],\n",
       "       [ 0.81435953,  0.19480894,  0.22955018,  0.26573733,  0.05173172],\n",
       "       [ 0.88686454,  0.15957584,  0.25822533,  0.14609077,  0.52297322]])"
      ]
     },
     "execution_count": 16,
     "metadata": {},
     "output_type": "execute_result"
    }
   ],
   "source": [
    "#Number of columns (features)\n",
    "K = 5\n",
    "\n",
    "#Number of records\n",
    "N = 1000\n",
    "\n",
    "#Generate an NxK matrix of uniform random variables\n",
    "X = np.random.random((N, K))\n",
    "#Student: generate a uniform random matrix here\n",
    "X"
   ]
  },
  {
   "cell_type": "markdown",
   "metadata": {},
   "source": [
    "Let's peak at our data to confirm it looks as we expect it"
   ]
  },
  {
   "cell_type": "code",
   "execution_count": 17,
   "metadata": {
    "collapsed": false
   },
   "outputs": [
    {
     "data": {
      "text/plain": [
       "array([[ 0.76712663,  0.86977784,  0.26403185,  0.77836171,  0.24706932],\n",
       "       [ 0.04339705,  0.77415369,  0.89485502,  0.19717697,  0.1966643 ],\n",
       "       [ 0.95360025,  0.06888269,  0.29047225,  0.26944452,  0.87480345],\n",
       "       [ 0.0300767 ,  0.08561548,  0.30391217,  0.62968344,  0.01189854],\n",
       "       [ 0.8865933 ,  0.27646522,  0.5833502 ,  0.86876372,  0.82673392],\n",
       "       [ 0.66682937,  0.06034106,  0.73570895,  0.77143151,  0.23216195],\n",
       "       [ 0.69828942,  0.27833908,  0.00250054,  0.06715368,  0.57761046],\n",
       "       [ 0.30985827,  0.14601512,  0.24199113,  0.84326651,  0.35249601],\n",
       "       [ 0.81640315,  0.9872433 ,  0.89495645,  0.01852492,  0.51743347],\n",
       "       [ 0.04418895,  0.21188309,  0.58897658,  0.57942257,  0.48546555],\n",
       "       [ 0.91953776,  0.50016361,  0.23804778,  0.09342447,  0.93816774],\n",
       "       [ 0.67065782,  0.66316538,  0.5160924 ,  0.16833244,  0.60718201],\n",
       "       [ 0.54266413,  0.90053285,  0.23073248,  0.89152725,  0.86617262],\n",
       "       [ 0.93829644,  0.36775894,  0.92209795,  0.76208291,  0.39550533],\n",
       "       [ 0.35358575,  0.5875051 ,  0.2895986 ,  0.903846  ,  0.32121612],\n",
       "       [ 0.83815659,  0.52953937,  0.99558213,  0.2951573 ,  0.3702013 ],\n",
       "       [ 0.88500424,  0.32253588,  0.48756192,  0.1336169 ,  0.19003878],\n",
       "       [ 0.72760647,  0.71284568,  0.11633783,  0.30378519,  0.03788457],\n",
       "       [ 0.09462511,  0.85902648,  0.80246399,  0.88542898,  0.02584834],\n",
       "       [ 0.32776876,  0.05229421,  0.31851462,  0.54575883,  0.085047  ],\n",
       "       [ 0.3112091 ,  0.82311319,  0.94808116,  0.47855979,  0.76831668],\n",
       "       [ 0.95163352,  0.92817365,  0.01549818,  0.7157321 ,  0.21901049],\n",
       "       [ 0.37561632,  0.39191863,  0.41064268,  0.97215937,  0.6088741 ],\n",
       "       [ 0.34747496,  0.98609386,  0.56395388,  0.68039879,  0.98686077],\n",
       "       [ 0.7930167 ,  0.56971309,  0.47027188,  0.76537762,  0.1775139 ],\n",
       "       [ 0.16361823,  0.46329833,  0.44973384,  0.71192045,  0.52592561],\n",
       "       [ 0.33707921,  0.03614418,  0.05281756,  0.42528746,  0.37382752],\n",
       "       [ 0.40496364,  0.70735555,  0.58382406,  0.36449835,  0.7749983 ],\n",
       "       [ 0.73256254,  0.07396279,  0.08713568,  0.04435139,  0.23770942],\n",
       "       [ 0.1745786 ,  0.42342393,  0.6085112 ,  0.25778994,  0.44740898],\n",
       "       [ 0.6053404 ,  0.23407171,  0.42186436,  0.82276317,  0.29997514],\n",
       "       [ 0.374909  ,  0.62415652,  0.42394841,  0.59969361,  0.35157368],\n",
       "       [ 0.64529567,  0.42887208,  0.58706102,  0.47445702,  0.54322606],\n",
       "       [ 0.20133222,  0.51764537,  0.94388736,  0.12697986,  0.9180216 ],\n",
       "       [ 0.310052  ,  0.54202871,  0.58827367,  0.50159966,  0.4135653 ],\n",
       "       [ 0.81750159,  0.56252984,  0.98488201,  0.21623686,  0.58144721],\n",
       "       [ 0.32831674,  0.52317689,  0.47780893,  0.12195471,  0.38052873],\n",
       "       [ 0.13078516,  0.36654306,  0.0665771 ,  0.43419355,  0.17708184],\n",
       "       [ 0.71127522,  0.27744168,  0.49303873,  0.53888934,  0.96480928],\n",
       "       [ 0.01114766,  0.78362827,  0.48831429,  0.55985461,  0.99687281],\n",
       "       [ 0.49889729,  0.37890756,  0.09843192,  0.76014337,  0.10271901],\n",
       "       [ 0.33403442,  0.44660885,  0.32431389,  0.7404965 ,  0.68948495],\n",
       "       [ 0.35447754,  0.1385547 ,  0.20474065,  0.99533986,  0.36272908],\n",
       "       [ 0.50809906,  0.85507681,  0.98813556,  0.91082403,  0.41533067],\n",
       "       [ 0.88758686,  0.40171278,  0.34340657,  0.39033047,  0.46147001],\n",
       "       [ 0.29461519,  0.53078468,  0.39272014,  0.13914747,  0.23493637],\n",
       "       [ 0.61655715,  0.43903574,  0.61807246,  0.78787257,  0.90690925],\n",
       "       [ 0.0909691 ,  0.92771686,  0.40790914,  0.99509216,  0.07090165],\n",
       "       [ 0.17510733,  0.42942401,  0.96077778,  0.49384853,  0.77788488],\n",
       "       [ 0.81181785,  0.35696088,  0.78605485,  0.18233008,  0.78789344],\n",
       "       [ 0.22139235,  0.56012199,  0.22335966,  0.67237761,  0.68294247],\n",
       "       [ 0.69864197,  0.12225005,  0.15192707,  0.74757865,  0.92991928],\n",
       "       [ 0.91879087,  0.03230744,  0.86685478,  0.42808293,  0.76893805],\n",
       "       [ 0.84230632,  0.97326526,  0.09709064,  0.14102171,  0.53233125],\n",
       "       [ 0.48792138,  0.67532171,  0.90086807,  0.85105779,  0.38363521],\n",
       "       [ 0.76780069,  0.40129165,  0.95879293,  0.74987676,  0.44291463],\n",
       "       [ 0.04571218,  0.67379448,  0.06069323,  0.60083842,  0.22173177],\n",
       "       [ 0.19341614,  0.65202665,  0.5747724 ,  0.21359589,  0.86570772],\n",
       "       [ 0.08289765,  0.69557212,  0.33999279,  0.11704285,  0.68122497],\n",
       "       [ 0.49657217,  0.5228459 ,  0.31355347,  0.6434501 ,  0.34944177],\n",
       "       [ 0.86359947,  0.69310212,  0.69506146,  0.12233021,  0.87284263],\n",
       "       [ 0.1613781 ,  0.66140107,  0.17875023,  0.59979045,  0.91828142],\n",
       "       [ 0.16306924,  0.16919993,  0.44057602,  0.36756937,  0.03413277],\n",
       "       [ 0.53580301,  0.12341961,  0.97225412,  0.15006822,  0.17530979],\n",
       "       [ 0.37785966,  0.69082045,  0.42890725,  0.51599283,  0.52590865],\n",
       "       [ 0.09389748,  0.96802584,  0.85287357,  0.01565758,  0.68460933],\n",
       "       [ 0.27736017,  0.86130283,  0.44025839,  0.31633   ,  0.98882609],\n",
       "       [ 0.72646376,  0.50416013,  0.0228693 ,  0.83869549,  0.76837871],\n",
       "       [ 0.29284911,  0.69276962,  0.64707396,  0.68409097,  0.94455968],\n",
       "       [ 0.52330544,  0.25883258,  0.50758521,  0.67472995,  0.23665592],\n",
       "       [ 0.2494442 ,  0.30840761,  0.40777133,  0.41053934,  0.5810549 ],\n",
       "       [ 0.23279915,  0.96328886,  0.86415625,  0.21695714,  0.3910117 ],\n",
       "       [ 0.137717  ,  0.14441531,  0.55386753,  0.10675293,  0.69881315],\n",
       "       [ 0.34709421,  0.25376535,  0.5608517 ,  0.57380965,  0.96236225],\n",
       "       [ 0.61899577,  0.34301027,  0.662356  ,  0.98683873,  0.87773185],\n",
       "       [ 0.95965834,  0.55543252,  0.45125241,  0.62702014,  0.13155692],\n",
       "       [ 0.69334324,  0.7893227 ,  0.99419343,  0.92688435,  0.33016469],\n",
       "       [ 0.99099708,  0.47380231,  0.19442963,  0.29301507,  0.81956159],\n",
       "       [ 0.47716557,  0.11101542,  0.15661482,  0.33768981,  0.40511561],\n",
       "       [ 0.4167587 ,  0.00813974,  0.962294  ,  0.77039976,  0.65470994],\n",
       "       [ 0.10685714,  0.43372509,  0.32389789,  0.61603131,  0.43792589],\n",
       "       [ 0.79383099,  0.9365462 ,  0.89169303,  0.82328308,  0.07535648],\n",
       "       [ 0.24632255,  0.93604941,  0.01179249,  0.83156321,  0.07957745],\n",
       "       [ 0.50452326,  0.65192062,  0.52361287,  0.44810905,  0.26637003],\n",
       "       [ 0.21297029,  0.5160845 ,  0.00505376,  0.10321333,  0.27594261],\n",
       "       [ 0.31151193,  0.19489979,  0.36457648,  0.77615162,  0.86736343],\n",
       "       [ 0.98058215,  0.65233256,  0.90002994,  0.7772481 ,  0.11481717],\n",
       "       [ 0.87943834,  0.31353096,  0.46414338,  0.22024624,  0.18788918],\n",
       "       [ 0.74175142,  0.84772067,  0.1091247 ,  0.88374997,  0.19437361],\n",
       "       [ 0.96064196,  0.43608738,  0.77585175,  0.86596006,  0.05953408],\n",
       "       [ 0.45262342,  0.21642746,  0.4711716 ,  0.12442385,  0.19972558],\n",
       "       [ 0.31859229,  0.96797966,  0.16050063,  0.61287332,  0.89052223],\n",
       "       [ 0.93748178,  0.21262155,  0.35703629,  0.37173248,  0.9756661 ],\n",
       "       [ 0.01567458,  0.80787516,  0.37489899,  0.37929555,  0.49271103],\n",
       "       [ 0.85960167,  0.99201479,  0.81967891,  0.2857082 ,  0.34951282],\n",
       "       [ 0.39798103,  0.7632581 ,  0.19291032,  0.13320972,  0.6996963 ],\n",
       "       [ 0.94997645,  0.58422783,  0.30230525,  0.94006182,  0.65570327],\n",
       "       [ 0.63621957,  0.28284993,  0.64307991,  0.96015317,  0.41669875],\n",
       "       [ 0.84695339,  0.1795901 ,  0.88303033,  0.73825142,  0.67722061]])"
      ]
     },
     "execution_count": 17,
     "metadata": {},
     "output_type": "execute_result"
    }
   ],
   "source": [
    "#Student - Put in a command to view the first 100 rows\n",
    "X[0:99]"
   ]
  },
  {
   "cell_type": "code",
   "execution_count": 10,
   "metadata": {
    "collapsed": false
   },
   "outputs": [
    {
     "data": {
      "text/plain": [
       "(1000, 1000)"
      ]
     },
     "execution_count": 10,
     "metadata": {},
     "output_type": "execute_result"
    }
   ],
   "source": [
    "#Student - put in a command to see the dimensions of X\n",
    "X.shape"
   ]
  },
  {
   "cell_type": "markdown",
   "metadata": {},
   "source": [
    "This exercise is about designing a scoring function for a logistic regression. As we are not concerned with fitting a model to data, we can just make up a logistic regression. <br> <br>\n",
    "\n",
    "For quick intro, the Logistic Regression takes the form of $\\hat{Y} = f(x * \\beta^T)$, where $x$ is the $1xK$ vector of features and $\\beta$ is the $1xK$ vector of weights. The function $f$, called a 'link' function, is the inverse logit: <br><br>\n",
    "\n",
    "<center>$f(a)=\\frac{1}{1+e^{-a}}$</center> <br><br>\n",
    "\n",
    "In this notebook we'll write a function that, given inputs of $X$ and $\\beta$, returns a value for $\\hat{Y}$.\n",
    "<br><br>\n",
    "First let's generate a random set of weights to represent $\\beta$.\n"
   ]
  },
  {
   "cell_type": "code",
   "execution_count": 18,
   "metadata": {
    "collapsed": false
   },
   "outputs": [
    {
     "data": {
      "text/plain": [
       "array([-0.82302081,  0.71590795, -0.1612122 ,  0.8207717 , -0.28071009])"
      ]
     },
     "execution_count": 18,
     "metadata": {},
     "output_type": "execute_result"
    }
   ],
   "source": [
    "#Student - generate a K dimensional vector of uniform random variables in the interval [-1, 1]\n",
    "beta = np.random.uniform(-1, 1, K) #input command here\n",
    "beta"
   ]
  },
  {
   "cell_type": "markdown",
   "metadata": {},
   "source": [
    "Notice how we applied a neat NumPy trick here. The numpy.random.random() function returns an array, yet we applied what appears to be a scalar operation on the vector. This is an example of what NumPy calls vectorization (a major point of this tutorial), which offers us both a very fast way to do run vector computations as well as a clean and concise method of coding. \n",
    "\n",
    "<br><br>\n",
    "\n",
    "<b>Question: we designed the above $beta$ vector such that $E[\\beta_i]=0$. How can we confirm that we did this correctly?</b>"
   ]
  },
  {
   "cell_type": "code",
   "execution_count": 20,
   "metadata": {
    "collapsed": false
   },
   "outputs": [
    {
     "data": {
      "text/plain": [
       "0.054347308539905284"
      ]
     },
     "execution_count": 20,
     "metadata": {},
     "output_type": "execute_result"
    }
   ],
   "source": [
    "#start by taking the mean of the beta we already calculated\n",
    "\n",
    "#Student - fill in command here\n",
    "np.mean(beta)\n"
   ]
  },
  {
   "cell_type": "code",
   "execution_count": 26,
   "metadata": {
    "collapsed": false
   },
   "outputs": [
    {
     "data": {
      "text/plain": [
       "(array([ 516.,  538.,  481.,  507.,  540.,  485.,  489.,  452.,  488.,  504.]),\n",
       " array([  7.75371577e-04,   1.00696271e-01,   2.00617171e-01,\n",
       "          3.00538070e-01,   4.00458970e-01,   5.00379870e-01,\n",
       "          6.00300769e-01,   7.00221669e-01,   8.00142568e-01,\n",
       "          9.00063468e-01,   9.99984368e-01]),\n",
       " <a list of 10 Patch objects>)"
      ]
     },
     "execution_count": 26,
     "metadata": {},
     "output_type": "execute_result"
    },
    {
     "data": {
      "image/png": "[encoded data removed]",
      "text/plain": [
       "<matplotlib.figure.Figure at 0x1cae9af2438>"
      ]
     },
     "metadata": {},
     "output_type": "display_data"
    }
   ],
   "source": [
    "#It is likely the above is not equal to zero. Let's simulate this 100k times and see what the distribution of means is\n",
    "#Student input code here\n",
    "means = [X]\n",
    "plt.hist(means)"
   ]
  },
  {
   "cell_type": "markdown",
   "metadata": {},
   "source": [
    "Now let's use matplotlibs hist function to plot the histogram of means here. "
   ]
  },
  {
   "cell_type": "code",
   "execution_count": 25,
   "metadata": {
    "collapsed": false
   },
   "outputs": [
    {
     "data": {
      "image/png": "[encoded data removed]",
      "text/plain": [
       "<matplotlib.figure.Figure at 0x1cae9a41ef0>"
      ]
     },
     "metadata": {},
     "output_type": "display_data"
    }
   ],
   "source": [
    "plt.hist(means)\n",
    "plt.show()"
   ]
  },
  {
   "cell_type": "markdown",
   "metadata": {},
   "source": [
    "We should expect the distribution to be centered around zero. Is it?"
   ]
  },
  {
   "cell_type": "markdown",
   "metadata": {},
   "source": [
    "Now let's write our scoring function. Let's try to use as much of Numpy's inner optimization as possible (hint, this can be done in two lines and without writing any loops)."
   ]
  },
  {
   "cell_type": "code",
   "execution_count": 27,
   "metadata": {
    "collapsed": true
   },
   "outputs": [],
   "source": [
    "def score_logistic_regression(X, beta):\n",
    "    '''\n",
    "    This function takes in an NxK matrix X and 1xK vector beta.\n",
    "    The function should apply the logistic scoring function to each record of X.\n",
    "    The output should be an Nx1 vector of scores\n",
    "    '''\n",
    "    \n",
    "    #First let's calculate X*beta - make sure to use numpy's 'dot' method\n",
    "    #student - put in code here\n",
    "    temp=np.dot(X,beta)\n",
    "    #Now let's input this into the link function\n",
    "    #student - put in code here\n",
    "    prob_score=1/(1+np.exp(-temp))\n",
    "    return prob_score"
   ]
  },
  {
   "cell_type": "markdown",
   "metadata": {},
   "source": [
    "So how much faster is it by using Numpy? We can test this be writing the same function that uses no Numpy and executes via loops."
   ]
  },
  {
   "cell_type": "code",
   "execution_count": 29,
   "metadata": {
    "collapsed": false
   },
   "outputs": [],
   "source": [
    "def score_logistic_regression_NoNumpy(X, beta):\n",
    "    '''\n",
    "    This function takes in an NxK matrix X and 1xK vector beta.\n",
    "    The function should apply the logistic scoring function to each record of X.\n",
    "    The output should be an Nx1 vector of scores\n",
    "    '''\n",
    "    #Let's calculate xbeta using loops\n",
    "    xbeta = []\n",
    "    for row in X:\n",
    "        \n",
    "        xb = 0\n",
    "        for i, el in enumerate(row):\n",
    "            xb += el * beta[i]\n",
    "        \n",
    "        xbeta.append(xb)\n",
    "        \n",
    "    #Now let's apply the link function to each xbeta\n",
    "    prob_score = []\n",
    "    for xb in xbeta:\n",
    "        prob_score.append(1 / (1 + np.exp(-1 * xb)))\n",
    "        \n",
    "    return prob_score"
   ]
  },
  {
   "cell_type": "markdown",
   "metadata": {},
   "source": [
    "Before doing any analysis, let's test the output of each to make sure they equal"
   ]
  },
  {
   "cell_type": "code",
   "execution_count": 31,
   "metadata": {
    "collapsed": false
   },
   "outputs": [
    {
     "name": "stdout",
     "output_type": "stream",
     "text": [
      "[ 0.62674009  0.61795475  0.30858123  0.62270159  0.46385811  0.48594817\n",
      "  0.38157513  0.59957192  0.44041859  0.58896024  0.34892296  0.45197848\n",
      "  0.6568921   0.46427706  0.67581103  0.41753971  0.37291101  0.53281408\n",
      "  0.75532506  0.53504214  0.58841418  0.59982798  0.63000559  0.64805197\n",
      "  0.56408303  0.6367317   0.49601624  0.54006603  0.35564058  0.53676994\n",
      "  0.54796481  0.61383379  0.47956929  0.47483209  0.58264317  0.39780647\n",
      "  0.50514609  0.61080666  0.42683355  0.65763875  0.60822604  0.60031154\n",
      "  0.62000475  0.66053331  0.42373936  0.53057843  0.52480809  0.78924345\n",
      "  0.54869485  0.35186949  0.63249529  0.46023021  0.32359643  0.4885511\n",
      "  0.62890023  0.49798747  0.70388708  0.53674508  0.56948907  0.58543016\n",
      "  0.38432611  0.63329722  0.55181459  0.39283792  0.59635897  0.57417817\n",
      "  0.57430233  0.55775025  0.60991554  0.53995156  0.53086248  0.60516338\n",
      "  0.44823856  0.50160316  0.54808063  0.50319581  0.622988    0.37817126\n",
      "  0.45635079  0.48905958  0.63483971  0.62900807  0.75504094  0.56465883\n",
      "  0.54998993  0.55427059  0.53011043  0.39028061  0.65692375  0.52261881\n",
      "  0.43844474  0.6588002   0.3439637   0.66329922  0.50174209  0.52515358\n",
      "  0.54368366  0.56126443  0.42677721  0.705614    0.57196173  0.46248738\n",
      "  0.55245133  0.54550742  0.61012654  0.48954865  0.36249091  0.45348416\n",
      "  0.6549078   0.49736691  0.54141993  0.55463918  0.51375905  0.62888957\n",
      "  0.55531798  0.58653963  0.4709438   0.56281783  0.62442999  0.42240997\n",
      "  0.67691284  0.65433416  0.39849952  0.59920989  0.55413955  0.6245178\n",
      "  0.59233418  0.67582821  0.53929901  0.43701867  0.45351269  0.67181293\n",
      "  0.68909783  0.49275867  0.53071085  0.65148075  0.64625906  0.4923004\n",
      "  0.57474281  0.3906574   0.74118456  0.54424061  0.56355182  0.66091158\n",
      "  0.53669855  0.48731357  0.63959671  0.52419035  0.66286437  0.53277369\n",
      "  0.32925505  0.61071072  0.48144607  0.63503957  0.52173795  0.69054346\n",
      "  0.6857534   0.53515909  0.51168403  0.64724071  0.53294396  0.51879876\n",
      "  0.70271172  0.58984199  0.65696962  0.57104601  0.6682335   0.42060539\n",
      "  0.48829517  0.61275432  0.66421545  0.46364111  0.74079925  0.63415549\n",
      "  0.62530543  0.6535293   0.539375    0.62026098  0.33389321  0.44989223\n",
      "  0.58457319  0.48807361  0.35771504  0.37763752  0.57416584  0.41195012\n",
      "  0.37001296  0.52007672  0.64178139  0.4306518   0.50794172  0.61747634\n",
      "  0.61351546  0.39555398  0.69177035  0.62111389  0.50370578  0.46589426\n",
      "  0.44228194  0.49063722  0.51123857  0.45589242  0.49389975  0.57714434\n",
      "  0.42730923  0.51249852  0.56477046  0.53537538  0.48832542  0.5014477\n",
      "  0.48070714  0.52477135  0.31892043  0.39903689  0.5590893   0.65244618\n",
      "  0.47771608  0.55534378  0.46398198  0.54743401  0.44970684  0.66178964\n",
      "  0.54311363  0.59109404  0.49991598  0.34514498  0.68258944  0.44003362\n",
      "  0.54624106  0.60899481  0.69274706  0.69975064  0.55161143  0.69170111\n",
      "  0.37292418  0.75219564  0.46360111  0.48976996  0.49565243  0.41380253\n",
      "  0.65055133  0.57732679  0.47842438  0.56742535  0.61296754  0.41909279\n",
      "  0.56879102  0.57736279  0.43377677  0.54203275  0.36397526  0.38620007\n",
      "  0.45432145  0.6240422   0.44385178  0.36242582  0.53597475  0.50524495\n",
      "  0.42328113  0.66643566  0.43178533  0.54639709  0.45102519  0.62455338\n",
      "  0.38020906  0.62365589  0.53334365  0.49539709  0.44331326  0.544176\n",
      "  0.41577889  0.49667672  0.62111462  0.55474716  0.69068957  0.53694217\n",
      "  0.56761241  0.66631424  0.57510562  0.52404524  0.62111449  0.58953977\n",
      "  0.53674286  0.4216132   0.56402137  0.59193132  0.58148783  0.5128376\n",
      "  0.63589412  0.67003644  0.423703    0.55397071  0.61393343  0.48903244\n",
      "  0.46800633  0.47370509  0.28441232  0.53307573  0.54626879  0.57674216\n",
      "  0.57302614  0.75015634  0.59008991  0.52744451  0.4209147   0.41077366\n",
      "  0.50711632  0.59783339  0.71903246  0.45567944  0.68322807  0.46768216\n",
      "  0.31186027  0.65745155  0.40916944  0.59458997  0.4863879   0.66075393\n",
      "  0.52503502  0.66093156  0.65618247  0.56821312  0.54730495  0.5055118\n",
      "  0.6843794   0.41620493  0.56260381  0.37590548  0.56827601  0.43592599\n",
      "  0.42894048  0.45020701  0.48238263  0.5742982   0.42917805  0.53381905\n",
      "  0.58561736  0.45257091  0.45572933  0.48456733  0.46397868  0.46918978\n",
      "  0.42127847  0.48739129  0.69219344  0.4008949   0.45770022  0.45623924\n",
      "  0.66812754  0.53537488  0.72242695  0.51279001  0.63804287  0.39525683\n",
      "  0.62689078  0.41980099  0.64356291  0.61696641  0.63471567  0.64898872\n",
      "  0.66842418  0.50743066  0.48572858  0.38041128  0.44230518  0.4156873\n",
      "  0.59977063  0.51393419  0.55542021  0.64396968  0.28821874  0.53224358\n",
      "  0.51175567  0.6084542   0.60633583  0.42623515  0.37134709  0.5755324\n",
      "  0.50484474  0.60048635  0.53094401  0.54121048  0.67784474  0.63009114\n",
      "  0.42603052  0.49133307  0.66501489  0.77321382  0.43943422  0.56052852\n",
      "  0.67768253  0.40614088  0.66988457  0.40648873  0.58879592  0.46883958\n",
      "  0.39247161  0.43394208  0.40440798  0.51139229  0.41384235  0.55330202\n",
      "  0.53289453  0.66034261  0.4641931   0.43157609  0.47590493  0.60945973\n",
      "  0.30592814  0.53180564  0.62345478  0.42727496  0.6374531   0.41111014\n",
      "  0.42164297  0.57011943  0.49377523  0.52787149  0.42618733  0.4210314\n",
      "  0.60776427  0.58808714  0.67301     0.48850908  0.44492782  0.62371692\n",
      "  0.6742461   0.53116949  0.56949222  0.44010266  0.56005468  0.5375923\n",
      "  0.60950421  0.5568211   0.37778584  0.63519588  0.38337677  0.65328976\n",
      "  0.49123887  0.45533552  0.50741533  0.4322689   0.63884398  0.7093477\n",
      "  0.6002678   0.54507082  0.52743463  0.67447568  0.50035057  0.46752649\n",
      "  0.47173638  0.41330079  0.54462269  0.33026775  0.63650488  0.44569573\n",
      "  0.49046218  0.56698972  0.46677799  0.60789071  0.41873008  0.75131069\n",
      "  0.55256875  0.3971245   0.47124767  0.44614856  0.5464695   0.70443254\n",
      "  0.43567329  0.54967533  0.54224206  0.58392852  0.48546934  0.58792864\n",
      "  0.6530468   0.52286456  0.44846876  0.47245774  0.60594338  0.42243451\n",
      "  0.44835848  0.50764636  0.40863505  0.38890523  0.5379408   0.46845687\n",
      "  0.49213375  0.44118034  0.57983153  0.58681669  0.49260603  0.44917614\n",
      "  0.64576332  0.50426827  0.68645989  0.43076993  0.68089158  0.47867373\n",
      "  0.69454833  0.5061421   0.49046223  0.42913262  0.69961702  0.56040255\n",
      "  0.41979251  0.50345349  0.57320499  0.53280612  0.58208542  0.72374118\n",
      "  0.55671348  0.43792286  0.52178444  0.35702619  0.43111999  0.444511\n",
      "  0.37713565  0.38465863  0.41628507  0.59377969  0.6953165   0.61889128\n",
      "  0.55546615  0.49507094  0.47919464  0.57800775  0.50587397  0.46240484\n",
      "  0.35216398  0.38702717  0.66740755  0.45769366  0.70691781  0.64181505\n",
      "  0.60866949  0.45483104  0.41611437  0.38719926  0.52742734  0.5568445\n",
      "  0.64225179  0.60276848  0.57841879  0.6727289   0.62551152  0.4432907\n",
      "  0.74350445  0.76203645  0.42022374  0.46402673  0.42502058  0.51359389\n",
      "  0.52357724  0.44788655  0.63624353  0.39944245  0.63130264  0.57257496\n",
      "  0.35271127  0.46939526  0.58851998  0.45594776  0.50686718  0.46717885\n",
      "  0.50387998  0.59297992  0.59298607  0.66942852  0.61315523  0.61487104\n",
      "  0.46609047  0.37678226  0.50246698  0.56301328  0.36205346  0.50480972\n",
      "  0.54863512  0.47352231  0.49918929  0.51724465  0.47010812  0.48963251\n",
      "  0.46305168  0.47386623  0.39031439  0.29568012  0.54111615  0.43288749\n",
      "  0.5482195   0.42810063  0.63495006  0.64607286  0.47178549  0.5954529\n",
      "  0.51358742  0.51334416  0.5189891   0.63270073  0.37374841  0.47018834\n",
      "  0.49480947  0.55449513  0.54517248  0.44339661  0.38871819  0.42842234\n",
      "  0.29215938  0.57112455  0.51155208  0.54782987  0.57204359  0.60064542\n",
      "  0.48376036  0.66167723  0.6326807   0.53117794  0.57608024  0.50720386\n",
      "  0.58354949  0.49512107  0.44385142  0.56366511  0.5075578   0.56211208\n",
      "  0.35393045  0.54799368  0.66284108  0.64328776  0.40979224  0.6131617\n",
      "  0.47862331  0.40528727  0.58435488  0.5979378   0.6634735   0.54869442\n",
      "  0.44395468  0.5735798   0.42281286  0.72568327  0.72902413  0.45538576\n",
      "  0.54394733  0.51520855  0.4157289   0.39466127  0.41039685  0.49624711\n",
      "  0.72400595  0.43619256  0.39834642  0.61463183  0.52913421  0.55549393\n",
      "  0.60375965  0.50325144  0.42077934  0.47017345  0.47642241  0.35736735\n",
      "  0.48389517  0.73892212  0.60456361  0.36267392  0.60637867  0.41959923\n",
      "  0.68276788  0.70136836  0.4964996   0.48216939  0.59030294  0.56869156\n",
      "  0.47471554  0.30326522  0.3767768   0.4121335   0.55579098  0.5339802\n",
      "  0.56086402  0.34456773  0.53295166  0.56484997  0.51793817  0.56291221\n",
      "  0.60321135  0.53933685  0.5508339   0.6402694   0.64767855  0.64234232\n",
      "  0.47626534  0.59648662  0.49305474  0.57147166  0.3439899   0.3552799\n",
      "  0.70649961  0.42978182  0.62161558  0.40817169  0.56219894  0.71703671\n",
      "  0.54779637  0.62765317  0.64781674  0.59607671  0.48437135  0.36252614\n",
      "  0.37132049  0.70708606  0.42071403  0.51600207  0.49959475  0.61528703\n",
      "  0.5613442   0.66858158  0.6753772   0.67827242  0.32787433  0.63792634\n",
      "  0.40307935  0.74975791  0.63616369  0.35554582  0.52156926  0.56003148\n",
      "  0.4549983   0.5695809   0.43226791  0.62081845  0.55415375  0.59933246\n",
      "  0.49432985  0.51173389  0.52716174  0.58405624  0.55095276  0.39324512\n",
      "  0.6075904   0.52291175  0.34915352  0.41786279  0.58440633  0.65914843\n",
      "  0.47376373  0.54740353  0.52377008  0.60488178  0.52030935  0.72065548\n",
      "  0.39275003  0.66318965  0.70642712  0.37770349  0.46274057  0.55277453\n",
      "  0.40792392  0.71408274  0.62211324  0.50016737  0.60412013  0.48120791\n",
      "  0.60275119  0.45925088  0.32698559  0.51541951  0.69892641  0.55056354\n",
      "  0.63506859  0.53292987  0.62401641  0.42419194  0.60593381  0.53331771\n",
      "  0.67656723  0.2960055   0.45337329  0.40528897  0.54440716  0.55999887\n",
      "  0.69728144  0.58937196  0.38031295  0.44659799  0.56095608  0.51865466\n",
      "  0.38657966  0.63631047  0.33755604  0.57316341  0.6860393   0.43200999\n",
      "  0.42932779  0.4925801   0.5724914   0.52076696  0.40021493  0.55064092\n",
      "  0.46588046  0.58696584  0.54811083  0.44416033  0.64430871  0.479802\n",
      "  0.54233232  0.52908182  0.53325997  0.47965058  0.53887826  0.46373127\n",
      "  0.55805488  0.49681897  0.41525466  0.39768696  0.67399765  0.59483041\n",
      "  0.56354912  0.70441271  0.36579428  0.64982237  0.43258419  0.40812634\n",
      "  0.48256564  0.50389259  0.53466761  0.41477525  0.65339493  0.39836275\n",
      "  0.51444438  0.48982561  0.34944917  0.35354188  0.645226    0.5394689\n",
      "  0.52307998  0.66410382  0.61276177  0.61820103  0.46906882  0.63776181\n",
      "  0.44214817  0.48857592  0.32533654  0.59050461  0.44836392  0.61745535\n",
      "  0.62154454  0.72438924  0.38124417  0.43088673  0.45781884  0.51967407\n",
      "  0.5256044   0.48376747  0.39884562  0.49633677  0.73137969  0.5397312\n",
      "  0.66769689  0.51147369  0.53523738  0.45881221  0.66782675  0.3756936\n",
      "  0.58844961  0.4983164   0.45975858  0.45599224  0.65987908  0.63694596\n",
      "  0.41223755  0.50944545  0.61747362  0.63512285  0.36770542  0.49672603\n",
      "  0.50162033  0.52535762  0.53191716  0.56187066  0.61306593  0.52745312\n",
      "  0.49661664  0.66110906  0.37386222  0.44112914  0.60984098  0.47667708\n",
      "  0.59512145  0.55919054  0.47590903  0.52441841  0.54435542  0.59860381\n",
      "  0.49238934  0.62622964  0.37657764  0.38507837  0.57171087  0.40868325\n",
      "  0.48195749  0.41874955  0.46337378  0.53423497  0.48244203  0.49845922\n",
      "  0.60250967  0.40892581  0.57329809  0.54487024  0.67022033  0.44958487\n",
      "  0.48398721  0.53290258  0.63728476  0.61028654  0.48755404  0.47293581\n",
      "  0.40739035  0.58572957  0.45583498  0.66151015  0.28145397  0.43908686\n",
      "  0.57609681  0.601873    0.48394879  0.53251875  0.44411243  0.63864332\n",
      "  0.50170187  0.62373961  0.47552568  0.52730885  0.45368581  0.55714895\n",
      "  0.53758337  0.45887929  0.42892098  0.51943682  0.62096301  0.30944022\n",
      "  0.54880614  0.42075266  0.49428639  0.64634425  0.69628457  0.4438205\n",
      "  0.56331977  0.48102297  0.59485768  0.5354102   0.45222054  0.49262223\n",
      "  0.56122974  0.49359774  0.66944701  0.4945715   0.52672417  0.6611854\n",
      "  0.53447352  0.57249643  0.62634164  0.53908523  0.72103764  0.60661512\n",
      "  0.53475268  0.46313159  0.44020953  0.40896499  0.59985661  0.39387397\n",
      "  0.33212834  0.55685283  0.38503299  0.6238228   0.37500244  0.58076768\n",
      "  0.61812699  0.48913876  0.55671069  0.46955239  0.47068118  0.58981911\n",
      "  0.5319239   0.56240295  0.49302699  0.60685249  0.74552787  0.55039894\n",
      "  0.61499178  0.48685966  0.685089    0.41758924  0.51048825  0.56346517\n",
      "  0.4835581   0.58629849  0.4099462   0.33532631]\n",
      "[0.62674009294938537, 0.61795474969375885, 0.30858122730784115, 0.62270159047369289, 0.46385810891607998, 0.48594817332401352, 0.38157513493259609, 0.59957191702323831, 0.44041858645288734, 0.58896023923481444, 0.34892296428453307, 0.45197848061591284, 0.65689210182618751, 0.46427705791155555, 0.67581103405458354, 0.41753971429344933, 0.37291100560757839, 0.53281407932869462, 0.75532505538740369, 0.53504214111851423, 0.58841418199838869, 0.5998279795775231, 0.63000558943785556, 0.64805196806793108, 0.56408302915868969, 0.63673169982018307, 0.49601624080883383, 0.54006603175356493, 0.35564057713785457, 0.5367699416822701, 0.54796481203027325, 0.61383378891605345, 0.47956928816332367, 0.47483209322756514, 0.58264316924177884, 0.3978064713523804, 0.5051460886600484, 0.61080666397824446, 0.42683354858623851, 0.65763874805944844, 0.60822604063823982, 0.60031154413893473, 0.62000475378795594, 0.66053331401551119, 0.42373936077405738, 0.53057842977986658, 0.52480809110458604, 0.78924344970277005, 0.54869484968823723, 0.35186948772306326, 0.63249529157683293, 0.46023020830202072, 0.32359642947850548, 0.48855109835932325, 0.62890022962719372, 0.49798746669165067, 0.70388708219029994, 0.53674508156852863, 0.56948906738494032, 0.58543016476977083, 0.38432611355447471, 0.63329722145882428, 0.55181458910580938, 0.39283792193004979, 0.59635897012496297, 0.57417817089832524, 0.57430233276065656, 0.55775024674649587, 0.60991554372975532, 0.53995156050150817, 0.53086248460785757, 0.60516338186346108, 0.44823855552319775, 0.50160315939991329, 0.5480806268562094, 0.50319580655757368, 0.62298800180109204, 0.37817126335101936, 0.45635079446682492, 0.48905957799522493, 0.63483971217254087, 0.62900807085763699, 0.75504094295243218, 0.56465883250326909, 0.54998992809281622, 0.55427059188650074, 0.5301104325541578, 0.3902806124324612, 0.65692374543432419, 0.52261880751661804, 0.43844474388919558, 0.6588002020839645, 0.34396370125811093, 0.66329921717989682, 0.50174209164377526, 0.52515358111718824, 0.54368366034094073, 0.56126442507029728, 0.4267772090869561, 0.70561399917172718, 0.57196173387638527, 0.46248738036270559, 0.5524513306882487, 0.54550742341516711, 0.61012654023764856, 0.48954865262507991, 0.3624909055654934, 0.45348416431777722, 0.65490780438018925, 0.49736690735573358, 0.5414199257121739, 0.55463918376580046, 0.51375905167680558, 0.62888956836557552, 0.5553179780524875, 0.58653962915437363, 0.47094379793938557, 0.5628178312210137, 0.62442998874314803, 0.42240997241324552, 0.67691283547114611, 0.65433415837355235, 0.39849952418411233, 0.59920988931142449, 0.55413954593570081, 0.62451780301554449, 0.59233417718061088, 0.67582820999356041, 0.53929901427345384, 0.43701867168689507, 0.45351269144833367, 0.67181293278521892, 0.68909783017209425, 0.49275866922510664, 0.53071085078694491, 0.6514807509478896, 0.64625906198118643, 0.49230040158240301, 0.57474281226940638, 0.39065740182920411, 0.74118456322726267, 0.54424061183072603, 0.56355182109275714, 0.66091157797214783, 0.5366985450330487, 0.48731356617796917, 0.63959671303138199, 0.52419034999757175, 0.6628643727058704, 0.53277369049269574, 0.32925505219155499, 0.61071071984675562, 0.48144607367339864, 0.63503956647641913, 0.52173795061859718, 0.69054345997152733, 0.68575340142416719, 0.5351590886591695, 0.51168402922516221, 0.6472407081991205, 0.53294396157121815, 0.51879875810584819, 0.70271172195102471, 0.58984199104176849, 0.65696962143693105, 0.57104600603258537, 0.66823350152033478, 0.42060538799059133, 0.48829517131525807, 0.61275431766920541, 0.66421545183285158, 0.46364111452747669, 0.74079925288898996, 0.63415548680038114, 0.62530542583090787, 0.65352929622881539, 0.53937499779806275, 0.62026097707559191, 0.33389321041290182, 0.44989222643423038, 0.58457318913761325, 0.48807361043623121, 0.35771504154404749, 0.3776375249616214, 0.57416583733310611, 0.41195011906748491, 0.37001295663856271, 0.52007671562131119, 0.64178139137006018, 0.43065180457217417, 0.50794171610269989, 0.61747633737606089, 0.6135154625094027, 0.39555398417119786, 0.69177034748475974, 0.62111389314088372, 0.50370577832926167, 0.46589425543778867, 0.44228194442897717, 0.49063722340677224, 0.51123857098000269, 0.45589242490504617, 0.49389975060203345, 0.57714433750569438, 0.42730922510572605, 0.51249851909792177, 0.56477045950568727, 0.53537538099297033, 0.48832541710912658, 0.50144769664126132, 0.48070713550896965, 0.52477134826604488, 0.31892043278293669, 0.39903688947453969, 0.55908930050555505, 0.65244617630719026, 0.47771607983858805, 0.55534377623401032, 0.46398197663661833, 0.54743401369410583, 0.44970684411727579, 0.66178963634739152, 0.54311363177489003, 0.59109403502073965, 0.49991597711973812, 0.34514498450946696, 0.68258944194269433, 0.44003361597424306, 0.54624105822087188, 0.6089948117154389, 0.69274706112402173, 0.69975064406720366, 0.551611426596195, 0.69170111183479777, 0.37292418415626571, 0.75219564446039644, 0.46360111312455499, 0.4897699635200905, 0.49565243403733006, 0.41380252777228771, 0.65055132919107495, 0.57732678962552175, 0.47842438151784733, 0.56742535233613134, 0.61296753563353135, 0.41909278714079468, 0.56879101920031339, 0.57736279061783624, 0.43377677429212852, 0.54203275012314678, 0.36397526387509749, 0.38620007331845707, 0.45432145491714521, 0.62404219999326416, 0.44385177620198762, 0.3624258198717234, 0.53597474615060214, 0.50524494996527924, 0.42328113008759688, 0.66643566463801696, 0.43178532778200751, 0.54639708922145436, 0.45102518712078865, 0.62455337931404575, 0.38020905669723348, 0.62365589121762344, 0.53334365257693239, 0.49539708748983347, 0.44331326184085124, 0.54417600484194695, 0.41577889258695605, 0.49667672010262331, 0.6211146242649479, 0.55474716477442698, 0.69068956744235632, 0.53694216619944612, 0.5676124112035521, 0.66631423899466413, 0.57510562094483608, 0.52404524130522068, 0.62111449183148404, 0.58953977464786456, 0.53674286450446784, 0.42161319605695718, 0.56402136665636149, 0.59193131801408938, 0.58148782836717938, 0.51283759864792933, 0.63589411579407995, 0.67003644262646633, 0.42370299837178621, 0.55397071435741285, 0.6139334332496561, 0.48903243832374488, 0.46800633027260846, 0.47370509464691546, 0.28441231768656322, 0.53307573424257393, 0.54626878701921278, 0.57674216416129187, 0.57302614134765439, 0.75015634263829967, 0.59008991359848095, 0.52744451101136802, 0.42091470171832462, 0.41077365780474318, 0.50711632461494105, 0.59783338534279717, 0.7190324591134315, 0.45567944102832819, 0.68322807061628388, 0.46768215687355891, 0.31186026791190657, 0.65745154548756646, 0.4091694386312778, 0.59458997072793285, 0.48638789602170263, 0.66075392922942844, 0.52503502044393568, 0.66093156415703025, 0.65618247144808772, 0.56821312089563769, 0.54730495114406841, 0.50551180262925421, 0.68437939789016267, 0.41620492916089585, 0.56260381013639327, 0.37590548192002232, 0.5682760118443092, 0.43592598573811414, 0.42894048000127466, 0.45020700791150997, 0.48238263450518098, 0.57429820320689329, 0.42917804559073747, 0.53381905059604107, 0.58561735953452665, 0.45257090746037382, 0.45572932950246486, 0.48456732806738889, 0.46397868261065744, 0.46918978434867242, 0.42127846791461182, 0.48739128935471454, 0.69219343787235443, 0.40089489826335112, 0.45770022491436252, 0.45623923844174119, 0.66812754377954031, 0.53537487763911173, 0.72242694955151365, 0.51279000973869804, 0.63804286936788712, 0.39525683241703041, 0.62689077925978243, 0.41980099344678878, 0.64356290561906315, 0.6169664112410459, 0.63471567417055941, 0.64898872122849127, 0.66842418088113353, 0.5074306643820099, 0.48572858111905548, 0.38041128432424365, 0.44230518086022147, 0.41568730140660881, 0.59977063091746363, 0.51393418677712899, 0.5554202105864946, 0.64396967697653607, 0.28821874041182816, 0.53224357990941273, 0.51175567041655468, 0.6084541987976847, 0.60633582678161524, 0.42623514762239284, 0.37134709090279089, 0.57553239826352887, 0.50484474196021611, 0.60048634585663785, 0.53094400559739408, 0.54121048059373811, 0.67784474449102927, 0.63009113647898773, 0.42603051562295763, 0.49133306995865483, 0.66501488769231654, 0.77321381770032727, 0.43943421901618507, 0.56052852296886446, 0.67768252800989714, 0.40614087942921384, 0.66988456775791205, 0.40648873201316033, 0.5887959156029331, 0.46883957666758813, 0.39247161105363065, 0.43394207874128538, 0.40440797691324382, 0.51139228698243289, 0.4138423469904316, 0.55330202109630056, 0.53289453269017062, 0.66034260511867049, 0.4641930992882482, 0.43157608671195746, 0.4759049329921739, 0.60945972899943712, 0.30592814113339106, 0.53180563767833955, 0.62345478464389803, 0.42727495597205661, 0.63745309618775958, 0.41111014312198652, 0.4216429699897033, 0.57011943039411528, 0.49377522655024009, 0.52787149282733969, 0.42618733379641799, 0.42103140055334481, 0.60776427009505107, 0.58808714392357253, 0.67301000219186824, 0.48850907922946896, 0.4449278190637137, 0.62371692442193594, 0.67424610436145516, 0.53116948883779991, 0.5694922235965546, 0.44010266256033148, 0.56005468240747269, 0.5375923021468203, 0.60950420662401028, 0.55682109520594125, 0.37778584082366962, 0.63519588464372601, 0.38337677199518216, 0.65328975875772055, 0.49123887415633138, 0.45533552286704082, 0.5074153289046256, 0.43226889823504272, 0.63884397824983941, 0.70934769724137881, 0.60026780490669696, 0.54507082433403686, 0.52743462688634912, 0.67447568010671477, 0.50035057209407297, 0.46752648950891385, 0.47173637584574957, 0.41330079307793677, 0.54462268842207262, 0.33026774658846403, 0.6365048818432899, 0.44569573206557767, 0.49046217892209681, 0.56698972108340118, 0.46677798985587082, 0.60789070726120031, 0.41873008075068069, 0.75131068889896246, 0.55256874961354319, 0.39712450357917461, 0.47124767181555838, 0.44614856170056477, 0.54646949857218519, 0.70443253787451188, 0.43567328636690716, 0.54967533442737104, 0.54224205520619906, 0.58392852255539784, 0.48546934318990681, 0.58792864167255576, 0.65304680057477804, 0.52286456049669638, 0.44846876143175113, 0.47245773673938762, 0.60594338219404031, 0.42243450564275742, 0.4483584776593465, 0.50764636052439471, 0.40863504713073007, 0.38890522851002862, 0.53794079653319282, 0.46845686582331303, 0.49213374645209207, 0.44118034470631667, 0.57983152965323015, 0.58681669029593253, 0.49260602837591277, 0.44917614089441249, 0.64576331581327728, 0.50426826549297521, 0.68645988644139211, 0.43076993211220577, 0.68089157733134553, 0.47867372644583239, 0.69454832938704703, 0.50614210127548698, 0.49046222680764662, 0.42913261804702729, 0.69961701911049246, 0.56040254752578789, 0.41979251273564561, 0.50345348709937809, 0.57320499226237109, 0.53280612044289022, 0.58208541889314669, 0.72374117985562925, 0.55671348166938772, 0.4379228557354114, 0.52178443954644704, 0.35702618557729654, 0.43111998555907138, 0.44451099721345078, 0.37713564950921075, 0.38465863065230399, 0.41628506662861503, 0.59377969401558683, 0.69531650069109918, 0.61889128424504813, 0.55546614935441485, 0.49507093631228899, 0.4791946364273833, 0.57800775086397194, 0.5058739676948073, 0.46240484406081839, 0.35216397901180957, 0.38702716740732107, 0.66740754577380434, 0.457693656406714, 0.70691781070598292, 0.64181504876695938, 0.60866948920354025, 0.45483103875305136, 0.41611437058632506, 0.38719925980387265, 0.52742734293954785, 0.55684449724265961, 0.64225178881405265, 0.60276847717228577, 0.57841879480042002, 0.67272890232121985, 0.6255115181519707, 0.44329070151960143, 0.74350445238970009, 0.76203645360002248, 0.42022374344051666, 0.46402673362917968, 0.42502057640194174, 0.5135938850493883, 0.52357723900980246, 0.44788655488672569, 0.63624353453903326, 0.39944245230055514, 0.63130263790851693, 0.57257496421655818, 0.35271127188361956, 0.46939526232585993, 0.58851997791928989, 0.45594776317790864, 0.5068671753128019, 0.46717885347138322, 0.503879977141243, 0.59297991701473296, 0.59298607369507028, 0.66942851517992685, 0.613155233955193, 0.61487104157785288, 0.46609046507131779, 0.37678226227155243, 0.50246697974764598, 0.56301327621560837, 0.36205345530258454, 0.50480971521363482, 0.54863512471820763, 0.4735223098665593, 0.49918929261462341, 0.51724465197621183, 0.47010812377065481, 0.48963250801237451, 0.46305167538565462, 0.47386623435735475, 0.3903143909145384, 0.2956801181738925, 0.54111614544327835, 0.43288749307000601, 0.54821949871022235, 0.42810062929089343, 0.63495005716202846, 0.64607286488938209, 0.47178549480804466, 0.5954529008939613, 0.51358741641771954, 0.51334416029130003, 0.51898909997503073, 0.6327007267812097, 0.3737484089904281, 0.47018833921722153, 0.49480947494528749, 0.55449512767431175, 0.54517248051634271, 0.44339660913154444, 0.38871819292157017, 0.42842233926307605, 0.29215938251622653, 0.57112455215597979, 0.51155208385732487, 0.5478298655759829, 0.57204359201138599, 0.60064542236895146, 0.48376036174724613, 0.66167722650157634, 0.63268069646390412, 0.53117793963448756, 0.57608024108444056, 0.50720385702269943, 0.58354948617320956, 0.49512106505470305, 0.44385142033903119, 0.56366510571258943, 0.50755780335610701, 0.56211208160623305, 0.35393044836655219, 0.54799368164823092, 0.66284107997476926, 0.64328776310010705, 0.40979224158030597, 0.61316169745732352, 0.47862330939437514, 0.40528726833313067, 0.58435488323950935, 0.59793780181259315, 0.6634734999879337, 0.54869442150743697, 0.44395467735564603, 0.57357979784434299, 0.42281286264952384, 0.72568327449275472, 0.72902413131789512, 0.45538576135629116, 0.54394732955299352, 0.51520855185057268, 0.4157289032377689, 0.39466126583328903, 0.41039685496833461, 0.49624710971202446, 0.72400594582984368, 0.43619256112234844, 0.3983464235910687, 0.61463183303356717, 0.52913420703042513, 0.5554939257171605, 0.60375965239957952, 0.50325144234340591, 0.42077933764388442, 0.47017345446693565, 0.47642241230374205, 0.35736735439170342, 0.48389517014196859, 0.73892212448912464, 0.60456361200492237, 0.36267392108150492, 0.60637867401147594, 0.41959923290316392, 0.68276787508000514, 0.70136836135692859, 0.49649959942070088, 0.48216939165335565, 0.59030294235829495, 0.56869156318411873, 0.47471554491111412, 0.30326521600107265, 0.3767768016894093, 0.41213349537220939, 0.5557909849253615, 0.53398019607440561, 0.56086402235228816, 0.34456773418760445, 0.53295165613778528, 0.56484997415158267, 0.5179381652167736, 0.56291221001702041, 0.60321134536703247, 0.5393368543274204, 0.5508339022085279, 0.64026940423005319, 0.64767855052498646, 0.64234232149981563, 0.47626533668346849, 0.59648662334657365, 0.49305474210173539, 0.57147166391027804, 0.34398990351448278, 0.35527990122833158, 0.70649960511802135, 0.42978182442684376, 0.62161558345895129, 0.40817168576719337, 0.56219894232463163, 0.71703671156944448, 0.54779636707633916, 0.62765316891957035, 0.64781673874065682, 0.5960767095932491, 0.48437134994138453, 0.3625261417415494, 0.37132048955155111, 0.70708606209762725, 0.42071403061624724, 0.51600206802877713, 0.49959474640882046, 0.61528703399219842, 0.56134419922910084, 0.66858158309382132, 0.67537719844485311, 0.67827242003767463, 0.32787433281001299, 0.63792633681742694, 0.40307934565975057, 0.74975791255826862, 0.63616368906310383, 0.35554581905442334, 0.52156925537987608, 0.56003148353717636, 0.45499830042770723, 0.56958089564514214, 0.43226790742025156, 0.62081844930439789, 0.55415374799373773, 0.59933245656147249, 0.49432984528115254, 0.51173389213860454, 0.52716174178117858, 0.58405623791886807, 0.55095275609793581, 0.3932451182121327, 0.60759039652795976, 0.5229117458484227, 0.34915352245741565, 0.41786279020577738, 0.58440632895833522, 0.65914842685905717, 0.47376373211515171, 0.54740352747552601, 0.52377008075813214, 0.60488178066874465, 0.52030935387692812, 0.72065547760115689, 0.39275002665550057, 0.6631896548106343, 0.70642711905773659, 0.37770348570101464, 0.46274057495191306, 0.55277452815828965, 0.40792392009469353, 0.71408273569940051, 0.62211324390244893, 0.50016736545878904, 0.60412012771981727, 0.48120791174537525, 0.60275119244159769, 0.45925087553451549, 0.32698558605851546, 0.51541951445748035, 0.69892641335317196, 0.55056354253996509, 0.63506858975650038, 0.53292986962802913, 0.6240164056011942, 0.42419194331141769, 0.605933814796911, 0.53331770547802482, 0.67656723074821101, 0.2960055045941517, 0.4533732884047908, 0.40528897167707612, 0.54440716163401393, 0.5599988711389976, 0.69728144422791483, 0.58937196098157041, 0.3803129526645459, 0.44659798750438229, 0.56095608047965062, 0.51865465806852962, 0.38657965664271687, 0.63631047452275435, 0.33755604062135403, 0.57316341247557268, 0.68603930032172855, 0.43200998861640061, 0.42932778694315488, 0.49258009799601871, 0.5724914021160572, 0.52076695674693452, 0.40021492611207177, 0.55064092336252557, 0.46588045668858724, 0.58696584491596882, 0.54811083310744568, 0.44416032883208817, 0.64430870691510334, 0.47980199924387978, 0.54233232357864913, 0.52908181792884657, 0.53325997253390811, 0.47965058140839933, 0.53887825730170136, 0.46373126830110656, 0.55805488364674427, 0.49681897249488244, 0.41525465822101804, 0.39768696020827465, 0.67399765381682708, 0.5948304116351687, 0.56354911500501315, 0.70441270688555502, 0.36579427791478081, 0.64982237181085278, 0.43258419297839451, 0.40812634099747558, 0.48256563800168645, 0.50389258533612702, 0.53466760859978979, 0.41477524822090522, 0.65339492527853515, 0.39836274772252489, 0.51444438294016426, 0.48982561230739274, 0.34944917278686066, 0.35354187745431931, 0.64522599875426534, 0.53946889898335637, 0.52307998446984483, 0.66410381949384834, 0.61276177144990329, 0.61820102781078801, 0.46906882198132221, 0.63776180599993182, 0.44214816643207133, 0.4885759201002296, 0.3253365372140482, 0.59050460948092998, 0.44836392228308619, 0.61745534879624953, 0.62154453521074626, 0.72438923872316019, 0.3812441701026037, 0.43088672911384596, 0.45781883662102796, 0.51967407446118408, 0.52560439752474841, 0.48376746771777629, 0.39884562293525044, 0.49633677143671157, 0.73137968660197716, 0.53973119752569831, 0.66769689024035084, 0.51147369068502913, 0.53523737511403602, 0.458812212410104, 0.66782674703619016, 0.3756935983234474, 0.5884496061878578, 0.49831639920336401, 0.45975857505504053, 0.45599223634561031, 0.65987908437762655, 0.63694596018900917, 0.41223755043501231, 0.50944545168462829, 0.6174736184578008, 0.63512285094954735, 0.36770542292802555, 0.49672603309875812, 0.50162032725861205, 0.52535762063124958, 0.53191715529695838, 0.56187066165062127, 0.61306593217769645, 0.52745312155524693, 0.49661664090718832, 0.66110905697694655, 0.37386221651461743, 0.4411291434357506, 0.60984098029115563, 0.47667707625735928, 0.59512144824289936, 0.55919054482321062, 0.47590903265959356, 0.52441840670134687, 0.54435541605415505, 0.59860381101951166, 0.49238934365012754, 0.62622964169578299, 0.37657764439730668, 0.38507836604060325, 0.57171086655049996, 0.40868324784394955, 0.48195748778321318, 0.41874955384292367, 0.46337377800129864, 0.53423497196219205, 0.48244203064326852, 0.49845922256455222, 0.60250967342029438, 0.40892581089226804, 0.5732980940641097, 0.54487024077790081, 0.67022033492889566, 0.44958486833121192, 0.48398721403791134, 0.53290257670713792, 0.637284755424389, 0.61028654299277141, 0.48755403899510102, 0.47293580586557693, 0.40739035490825198, 0.58572957282755611, 0.45583497914939958, 0.66151015251674461, 0.28145396629087044, 0.43908685687087284, 0.57609681353462716, 0.60187300189166881, 0.48394879494140236, 0.53251874559694057, 0.44411243108238685, 0.63864331660630513, 0.50170187124863386, 0.62373961136308131, 0.4755256786088034, 0.52730884703124559, 0.45368580823510429, 0.55714895406128118, 0.53758337277849877, 0.45887929099547126, 0.4289209826437676, 0.51943681634055949, 0.62096301480358451, 0.30944021993798709, 0.54880614164437547, 0.42075266222489532, 0.49428638799945163, 0.64634425200763312, 0.69628457244575137, 0.44382049911373478, 0.56331977259809096, 0.48102297310040465, 0.59485768179119247, 0.53541019678204449, 0.45222053825889919, 0.4926222308717837, 0.5612297393137583, 0.4935977417033704, 0.66944701047093991, 0.49457149907920772, 0.52672416658555976, 0.66118539722990011, 0.53447352484097721, 0.57249643292632457, 0.62634163914081498, 0.5390852253625702, 0.72103763894080497, 0.60661512338057166, 0.53475268215740135, 0.46313159072621923, 0.44020952795025337, 0.40896499241124901, 0.59985661113505562, 0.39387396547578118, 0.33212834024672372, 0.55685283114143636, 0.38503298851357648, 0.62382279716568001, 0.37500243714884146, 0.58076768368454146, 0.61812699043489316, 0.48913875611519575, 0.55671068966755632, 0.46955239221233019, 0.47068117971331774, 0.58981911185319091, 0.53192389627793191, 0.56240295037232713, 0.4930269927008184, 0.60685248850454743, 0.74552787282089972, 0.55039893914534521, 0.61499178216414863, 0.48685965524011754, 0.68508900383186022, 0.41758924397760699, 0.5104882518070033, 0.56346517255140893, 0.48355809746318301, 0.58629848540218488, 0.40994619826572615, 0.33532630740567587]\n"
     ]
    }
   ],
   "source": [
    "#Student - write a unit test that calls each function with the same inputs and checks to see they return the same values.\n",
    "print(score_logistic_regression(X, beta))\n",
    "print(score_logistic_regression_NoNumpy(X, beta))"
   ]
  },
  {
   "cell_type": "markdown",
   "metadata": {},
   "source": [
    "If they equal then we can proceed with timing analysis"
   ]
  },
  {
   "cell_type": "code",
   "execution_count": 32,
   "metadata": {
    "collapsed": false
   },
   "outputs": [
    {
     "name": "stdout",
     "output_type": "stream",
     "text": [
      "100 loops, best of 3: 4.36 ms per loop\n"
     ]
    }
   ],
   "source": [
    "%timeit score_logistic_regression_NoNumpy(X, beta)"
   ]
  },
  {
   "cell_type": "code",
   "execution_count": 33,
   "metadata": {
    "collapsed": false
   },
   "outputs": [
    {
     "name": "stdout",
     "output_type": "stream",
     "text": [
      "The slowest run took 15.94 times longer than the fastest. This could mean that an intermediate result is being cached.\n",
      "100000 loops, best of 3: 17.1 µs per loop\n"
     ]
    }
   ],
   "source": [
    "%timeit score_logistic_regression(X, beta)"
   ]
  },
  {
   "cell_type": "markdown",
   "metadata": {},
   "source": []
  },
  {
   "cell_type": "code",
   "execution_count": 34,
   "metadata": {
    "collapsed": false
   },
   "outputs": [
    {
     "ename": "SyntaxError",
     "evalue": "invalid syntax (<ipython-input-34-c3ad84c19e27>, line 1)",
     "output_type": "error",
     "traceback": [
      "\u001b[1;36m  File \u001b[1;32m\"<ipython-input-34-c3ad84c19e27>\"\u001b[1;36m, line \u001b[1;32m1\u001b[0m\n\u001b[1;33m    $\\alpha^2$\u001b[0m\n\u001b[1;37m    ^\u001b[0m\n\u001b[1;31mSyntaxError\u001b[0m\u001b[1;31m:\u001b[0m invalid syntax\n"
     ]
    }
   ],
   "source": []
  }
 ],
 "metadata": {
  "anaconda-cloud": {},
  "kernelspec": {
   "display_name": "Python [Root]",
   "language": "python",
   "name": "Python [Root]"
  },
  "language_info": {
   "codemirror_mode": {
    "name": "ipython",
    "version": 3
   },
   "file_extension": ".py",
   "mimetype": "text/x-python",
   "name": "python",
   "nbconvert_exporter": "python",
   "pygments_lexer": "ipython3",
   "version": "3.5.2"
  }
 },
 "nbformat": 4,
 "nbformat_minor": 0
}
