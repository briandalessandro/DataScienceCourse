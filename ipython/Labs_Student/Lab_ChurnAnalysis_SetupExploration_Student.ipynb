{
 "cells": [
  {
   "cell_type": "markdown",
   "metadata": {},
   "source": [
    "This lab notebook coincides with CaseStudy_Churn_Analysis_2016 iPython notebook. \n",
    "\n",
    "Step 1: Open the notebook and read the \"Introduction and Motivation\" Section.\n",
    "\n",
    "<b>Question 1:</b> Given that customer churn is an issue across many industries, how might problem abstraction help a data scientist solve the problem at a given company? In otherwords, can one solve it in a Telecom job and be successful solving it while working for a large gym? What parts of the problem are common across domains? Which parts require domain knowledge of the industry?\n",
    "\n",
    "<b>Question 2:</b> How should one define churn in a way that can be explicitly and unambiguously measured for each of the following industries/companies: Credit Card, Amazon, a big Gym.\n",
    "\n",
    "<b>Question 3:</b> Think about three features that may be useful for predicting churn for each of the following industries: Credit Card, Amazon, a big Gym. Do these features have anything in common?\n",
    "\n",
    "<b>Question 4:</b> Once we have a set of factors as well as a supervised learning model, how might we use this model in a predictive and also in an explanatory way? Do we need a supervised learning model for the explanatory use case?\n",
    "\n",
    "Step 2: Read the Problem Formulation and Data Exploration (up to Descriptive Statistics) sections. \n",
    "\n",
    "<b>Question 5:</b>For building a churn data set, what are two different ways we can sample both churners and non-churners into a training set? What may be the advantages/disadvantages of each?\n",
    "\n",
    "Step 3: Read from the Descriptive Statistics up until Predictive Modeling\n",
    "\n",
    "<b>Questions:</b>\n",
    "<ul>\n",
    "<li>What level of information redundency exists amongst the variables? How would you explain this?</li>\n",
    "<li>Based on the mutual information between features and churn, how would explain the most important churn factors to a colleague?</li>\n",
    "</ul>"
   ]
  },
  {
   "cell_type": "code",
   "execution_count": null,
   "metadata": {
    "collapsed": true
   },
   "outputs": [],
   "source": []
  }
 ],
 "metadata": {
  "kernelspec": {
   "display_name": "Python 3",
   "language": "python",
   "name": "python3"
  },
  "language_info": {
   "codemirror_mode": {
    "name": "ipython",
    "version": 3
   },
   "file_extension": ".py",
   "mimetype": "text/x-python",
   "name": "python",
   "nbconvert_exporter": "python",
   "pygments_lexer": "ipython3",
   "version": "3.5.2"
  }
 },
 "nbformat": 4,
 "nbformat_minor": 1
}
