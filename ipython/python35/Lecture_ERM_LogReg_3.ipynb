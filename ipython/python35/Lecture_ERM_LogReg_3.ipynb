{
 "cells": [
  {
   "cell_type": "markdown",
   "metadata": {},
   "source": [
    "# A Primer on Empirical Risk Minimization"
   ]
  },
  {
   "cell_type": "markdown",
   "metadata": {},
   "source": [
    "##  Notations and Definitions"
   ]
  },
  {
   "cell_type": "markdown",
   "metadata": {},
   "source": [
    "<p>Let's first set up some notation and ideas:</p>\n",
    "<ul>\n",
    "<li>Let $X \\in \\mathbb{R}^p$ be a $p$-dimensional real valued vector of predictor variables</li>\n",
    "<br>\n",
    "<li>Let $Y$ be a target variable, where \n",
    "<ul>\n",
    "<li> $Y\\in \\mathbb{R}$ is real valued</li> \n",
    "<li> $Y\\in C$ is an element in some set of classes $C=\\{c_1,c_2,...c_k\\}$</li> \n",
    "</ul>\n",
    "</li>\n",
    "<br>\n",
    "<li>$X$ and $Y$ are governed by a joint distribution $P(Y,X)$ (that we likely don't know)</li>\n",
    "<br>\n",
    "<li>We seek a function $f(X)$ for predicting $Y$, given $X$, whose output can be</li>\n",
    "<ul>\n",
    "<li> Real valued, i.e. $f(X)=E[Y|X]$</li> \n",
    "<li> Discrete valued, i.e. $f(x) \\in \\{c_1,c_2,...c_k\\}$</li> \n",
    "</ul>\n",
    "</ul>"
   ]
  },
  {
   "cell_type": "markdown",
   "metadata": {},
   "source": [
    "<p>Second, let's define two more things</p>\n",
    "<ul>\n",
    "<br>\n",
    "<li>$\\mathbb{F}$ is a family of functions, such that $f(x) \\in \\mathbb{F}$, examples are:\n",
    "<ul>\n",
    "<li> All linear hyper-planes, such that $f(x)=\\alpha+\\beta x$ </li>\n",
    "<li> All quadratic polynomials, such that $f(x)=\\alpha+\\beta_1 x +\\beta_2x^2$ </li>\n",
    "<li> All decision trees with max(depth)=$k$</li>\n",
    "</ul>\n",
    "</li>\n",
    "<br>\n",
    "<li> A loss function $\\mathbb{L}(f(X),Y)$ that measures how well $f(X)$ approximates $Y$.\n",
    "<ul>\n",
    "<li> Squared Loss:  $\\mathbb{L}(f(x),y)=(f(x)-y)^2$</li>\n",
    "<li> 0-1 Loss:  $\\mathbb{L}(f(x),y)=\\mathbb{I}(f(x)==y)$</li>\n",
    "<li> Logistic Loss:  $\\mathbb{L}(f(x),y)=-[y*Ln(f(x))+(1-y)*Ln(1-f(x))]$</li>\n",
    "<li> Hinge Loss:  $\\mathbb{L}(f(x),y)=max(0,1-f(x)*y)$</li>\n",
    "</ul>\n",
    "</ul>"
   ]
  },
  {
   "cell_type": "markdown",
   "metadata": {},
   "source": [
    "## Emprical Risk Minimization"
   ]
  },
  {
   "cell_type": "markdown",
   "metadata": {},
   "source": [
    "<p>The main goal of Supervised Learning can be stated using the Empirical Risk Minimization framework of Statistical Learning.<br><br>\n",
    "We are looking for a function <span style=\"color:red\">$f\\in \\mathbb{F}$</span> that minimizes the expected loss: \n",
    "<br>\n",
    "<br>\n",
    "<center><span style=\"color:red\">$E[\\mathbb{L}(f(x),y)]=\\int \\mathbb{L}(f(x),y)\\, P(x,y)\\:\\mathrm{d}x\\mathrm{d}y$</span></center>\n",
    "\n",
    "<br>\n",
    "Because we don't know the distribution <span style=\"color:red\">$P(X,Y)$</span>, we can't minimize the expected loss. However, we can minimize the empirical loss, or risk, by computing the average loss over our training data.<br><br> Thus, in Supervised Learning, we choose the function <span style=\"color:red\">$f(X)$</span> that minimizes the loss over training data:\n",
    "<br><br>\n",
    "<center><span style=\"color:red\">$f^{opt}= \\underset{f \\in \\mathbb{F}} {\\mathrm{argmin}} \\frac{1}{n} \\sum\\limits_{i=1}^n \\mathbb{L}(f(x_i),y_i)$</span></center>\n",
    "\n",
    "\n",
    "</p>"
   ]
  },
  {
   "cell_type": "markdown",
   "metadata": {},
   "source": [
    "# Logistic Regression"
   ]
  },
  {
   "cell_type": "markdown",
   "metadata": {},
   "source": [
    "## Definition"
   ]
  },
  {
   "cell_type": "markdown",
   "metadata": {},
   "source": [
    "<p><b>Logistic Regression:</b> a member of the class of generalized linear models (glm) using the logit as its link function.<br><br>\n",
    "\n",
    "The goal of Logistic Regression is to model the posterior probability of membership in class <span style=\"color:red\">$c_i$</span> as a function of <span style=\"color:red\">$X$</span>. I.e.,\n",
    "<br>\n",
    "<br>\n",
    "<br>\n",
    "<center><span style=\"color:red\">$P(c_i|x)=f(x)=\\frac{1}{1+e^{-(\\alpha+\\beta x))}}$</span></center>\n",
    "<br>\n",
    "<br>\n",
    "To make this a linear model in <span style=\"color:red\">$X$</span>, we take the log of the odds ratio of <span style=\"color:red\">$p$</span> (called the log-odds):\n",
    "<br>\n",
    "<br>\n",
    "<br>\n",
    "<center><span style=\"color:red\">$ln \\frac{P(c_i|x)}{1-P(c_i|x)} = ln \\frac{1}{e^{-(\\alpha+\\beta x))}} = \\alpha+\\beta x$</span></center>\n",
    "<br>\n",
    "<br>\n",
    "And effectively we do a linear regression against the log-odds of <span style=\"color:red\">$P(c_i|x)$</span> (though we don't use least squares).\n",
    "</p>"
   ]
  },
  {
   "cell_type": "markdown",
   "metadata": {},
   "source": [
    "## LogReg as ERM"
   ]
  },
  {
   "cell_type": "markdown",
   "metadata": {},
   "source": [
    "<p>How do we fit Logistic Regression into the ERM framework?<br><br>\n",
    "\n",
    "We find the parameters <span style=\"color:red\">$\\alpha$</span> and <span style=\"color:red\">$\\beta$</span> using the method of <u>Maximum Likelihood Estimation</u>.<br><br>\n",
    "\n",
    "If we consider each observation to be an indepedent Bernoulli draw with <span style=\"color:red\">$p_i=P(y_i|x_i)$</span>, then the likelihood of each draw can be defined as: <span style=\"color:red\">$p_i^{y_i}(1-p_i)^{1-y_i}$</span>, with <span style=\"color:red\">$p_i$</span> given by the inverse logit function. In MLE, we wish to maximize the likelihood of observing the data as a function of the independent parameters of the model (i.e., <span style=\"color:red\">$\\alpha$</span> and <span style=\"color:red\">$\\beta$</span>). The total likelihood function looks like:<br><br>\n",
    "\n",
    "<center><span style=\"color:red\">$L(\\alpha,\\beta|X,Y)=\\prod\\limits_{i=1}^nP(x_i,y_i|\\alpha,\\beta)=\\prod\\limits_{i=1}^np_i^{y_i}(1-p_i)^{1-y_i}$</span></center>\n",
    "<br><br>\n",
    "This is actually a difficult equation to maximize directly, so we do a little trick. We take the negative log and call this our loss function for ERM!\n",
    "\n",
    "<center><span style=\"color:red\">$\\mathbb{L}(f(X),Y)=-Ln [L(\\alpha,\\beta|X,Y)]=-\\sum\\limits_{i=1}^n y_i\\,ln\\,(p_i)+(1-y_i)\\,ln\\,(1-p_i)$</span></center>\n",
    "\n",
    "\n",
    "\n",
    "\n",
    "\n",
    "\n",
    "\n",
    "</p>"
   ]
  },
  {
   "cell_type": "markdown",
   "metadata": {},
   "source": [
    "## Example 1 - Building and Looking at a Model"
   ]
  },
  {
   "cell_type": "code",
   "execution_count": 4,
   "metadata": {
    "collapsed": false
   },
   "outputs": [
    {
     "name": "stdout",
     "output_type": "stream",
     "text": [
      "Warning: Maximum number of iterations has been exceeded.\n",
      "         Current function value: 0.245774\n",
      "         Iterations: 35\n"
     ]
    }
   ],
   "source": [
    "'''\n",
    "Let's train an actual model and see how well it generalizes\n",
    "'''\n",
    "import math\n",
    "from sklearn.metrics import confusion_matrix, roc_auc_score\n",
    "from sklearn import linear_model\n",
    "import numpy as np\n",
    "import os\n",
    "import course_utils as bd\n",
    "import pandas as pd\n",
    "import statsmodels.api as sm\n",
    "import matplotlib.pyplot as plt\n",
    "import warnings\n",
    "warnings.filterwarnings('ignore')\n",
    "import imp\n",
    "imp.reload(bd)\n",
    "%matplotlib inline\n",
    "\n",
    "#For mac users\n",
    "cwd = os.getcwd()\n",
    "datadir = '/'.join(cwd.split('/')[0:-1]) + '/data/'\n",
    "#For window's users, hardcode the dir:\n",
    "#datadir = \n",
    "\n",
    "\n",
    "#Load data and downsample for a 1/10 pos/neg ratio, then split into a train/test\n",
    "f = datadir + 'ads_dataset_cut.txt'\n",
    "target = 'y_buy'\n",
    "tdat = pd.read_csv(f, header = 0, sep = '\\t')\n",
    "moddat = bd.downSample(tdat, target, 10)\n",
    "\n",
    "#We know the dataset is sorted so we can just split by index\n",
    "train_split = 0.75\n",
    "train = moddat[:int(math.floor(moddat.shape[0]*train_split))]\n",
    "test = moddat[int(math.floor(moddat.shape[0]*train_split)):]\n",
    "\n",
    "#Using Scikit-learn the model is built with two easy steps.\n",
    "logreg = linear_model.LogisticRegression(C = 1e30)\n",
    "logreg.fit(train.drop(target, 1), train[target])\n",
    "\n",
    "#But we are going to also build using the statsmodel package\n",
    "logit_sm = sm.Logit(train[target], train.drop(target, 1))\n",
    "lr_fit = logit_sm.fit()"
   ]
  },
  {
   "cell_type": "markdown",
   "metadata": {},
   "source": [
    "<p>Logistic Regression has long been used as a tool in statistics and econometrics so there are a lot of additional data points one can get out of logistic regression model than one might get with standard machine learning tools.<br><br>\n",
    "We showed how to use scikit-learn to fit a model, but we also used statsmodel. The reason is that statsmodel returns summary statistics on each coefficient fit to the variables. In machine learning, we often only focus on the generalizability of the prediction. But in many analytical applications we want to know how statistically significant are the estimates within our model.\n",
    "</p>"
   ]
  },
  {
   "cell_type": "code",
   "execution_count": 5,
   "metadata": {
    "collapsed": false
   },
   "outputs": [
    {
     "data": {
      "text/html": [
       "<table class=\"simpletable\">\n",
       "<caption>Logit Regression Results</caption>\n",
       "<tr>\n",
       "  <th>Dep. Variable:</th>       <td>y_buy</td>      <th>  No. Observations:  </th>  <td>  2087</td>  \n",
       "</tr>\n",
       "<tr>\n",
       "  <th>Model:</th>               <td>Logit</td>      <th>  Df Residuals:      </th>  <td>  2074</td>  \n",
       "</tr>\n",
       "<tr>\n",
       "  <th>Method:</th>               <td>MLE</td>       <th>  Df Model:          </th>  <td>    12</td>  \n",
       "</tr>\n",
       "<tr>\n",
       "  <th>Date:</th>          <td>Mon, 24 Sep 2018</td> <th>  Pseudo R-squ.:     </th>  <td>0.1601</td>  \n",
       "</tr>\n",
       "<tr>\n",
       "  <th>Time:</th>              <td>20:18:41</td>     <th>  Log-Likelihood:    </th> <td> -512.93</td> \n",
       "</tr>\n",
       "<tr>\n",
       "  <th>converged:</th>           <td>False</td>      <th>  LL-Null:           </th> <td> -610.74</td> \n",
       "</tr>\n",
       "<tr>\n",
       "  <th> </th>                      <td> </td>        <th>  LLR p-value:       </th> <td>2.621e-35</td>\n",
       "</tr>\n",
       "</table>\n",
       "<table class=\"simpletable\">\n",
       "<tr>\n",
       "           <td></td>              <th>coef</th>     <th>std err</th>      <th>z</th>      <th>P>|z|</th>  <th>[0.025</th>    <th>0.975]</th>  \n",
       "</tr>\n",
       "<tr>\n",
       "  <th>isbuyer</th>             <td>  -23.0178</td> <td> 6.48e+04</td> <td>   -0.000</td> <td> 1.000</td> <td>-1.27e+05</td> <td> 1.27e+05</td>\n",
       "</tr>\n",
       "<tr>\n",
       "  <th>buy_freq</th>            <td>   23.9668</td> <td> 6.48e+04</td> <td>    0.000</td> <td> 1.000</td> <td>-1.27e+05</td> <td> 1.27e+05</td>\n",
       "</tr>\n",
       "<tr>\n",
       "  <th>visit_freq</th>          <td>   -0.0074</td> <td>    0.016</td> <td>   -0.462</td> <td> 0.644</td> <td>   -0.039</td> <td>    0.024</td>\n",
       "</tr>\n",
       "<tr>\n",
       "  <th>buy_interval</th>        <td>   -0.0109</td> <td>    0.014</td> <td>   -0.804</td> <td> 0.422</td> <td>   -0.038</td> <td>    0.016</td>\n",
       "</tr>\n",
       "<tr>\n",
       "  <th>sv_interval</th>         <td>    0.0102</td> <td>    0.007</td> <td>    1.423</td> <td> 0.155</td> <td>   -0.004</td> <td>    0.024</td>\n",
       "</tr>\n",
       "<tr>\n",
       "  <th>expected_time_buy</th>   <td>    0.0106</td> <td>    0.016</td> <td>    0.656</td> <td> 0.512</td> <td>   -0.021</td> <td>    0.042</td>\n",
       "</tr>\n",
       "<tr>\n",
       "  <th>expected_time_visit</th> <td>   -0.0334</td> <td>    0.008</td> <td>   -4.313</td> <td> 0.000</td> <td>   -0.049</td> <td>   -0.018</td>\n",
       "</tr>\n",
       "<tr>\n",
       "  <th>last_buy</th>            <td>    0.0102</td> <td>    0.005</td> <td>    2.086</td> <td> 0.037</td> <td>    0.001</td> <td>    0.020</td>\n",
       "</tr>\n",
       "<tr>\n",
       "  <th>last_visit</th>          <td>   -0.0635</td> <td>    0.006</td> <td>  -10.851</td> <td> 0.000</td> <td>   -0.075</td> <td>   -0.052</td>\n",
       "</tr>\n",
       "<tr>\n",
       "  <th>multiple_buy</th>        <td>  -22.6427</td> <td> 6.48e+04</td> <td>   -0.000</td> <td> 1.000</td> <td>-1.27e+05</td> <td> 1.27e+05</td>\n",
       "</tr>\n",
       "<tr>\n",
       "  <th>multiple_visit</th>      <td>   -0.1607</td> <td>    0.213</td> <td>   -0.755</td> <td> 0.450</td> <td>   -0.578</td> <td>    0.257</td>\n",
       "</tr>\n",
       "<tr>\n",
       "  <th>uniq_urls</th>           <td>   -0.0103</td> <td>    0.002</td> <td>   -6.443</td> <td> 0.000</td> <td>   -0.013</td> <td>   -0.007</td>\n",
       "</tr>\n",
       "<tr>\n",
       "  <th>num_checkins</th>        <td> 8.671e-05</td> <td> 8.28e-05</td> <td>    1.048</td> <td> 0.295</td> <td>-7.55e-05</td> <td>    0.000</td>\n",
       "</tr>\n",
       "</table>"
      ],
      "text/plain": [
       "<class 'statsmodels.iolib.summary.Summary'>\n",
       "\"\"\"\n",
       "                           Logit Regression Results                           \n",
       "==============================================================================\n",
       "Dep. Variable:                  y_buy   No. Observations:                 2087\n",
       "Model:                          Logit   Df Residuals:                     2074\n",
       "Method:                           MLE   Df Model:                           12\n",
       "Date:                Mon, 24 Sep 2018   Pseudo R-squ.:                  0.1601\n",
       "Time:                        20:18:41   Log-Likelihood:                -512.93\n",
       "converged:                      False   LL-Null:                       -610.74\n",
       "                                        LLR p-value:                 2.621e-35\n",
       "=======================================================================================\n",
       "                          coef    std err          z      P>|z|      [0.025      0.975]\n",
       "---------------------------------------------------------------------------------------\n",
       "isbuyer               -23.0178   6.48e+04     -0.000      1.000   -1.27e+05    1.27e+05\n",
       "buy_freq               23.9668   6.48e+04      0.000      1.000   -1.27e+05    1.27e+05\n",
       "visit_freq             -0.0074      0.016     -0.462      0.644      -0.039       0.024\n",
       "buy_interval           -0.0109      0.014     -0.804      0.422      -0.038       0.016\n",
       "sv_interval             0.0102      0.007      1.423      0.155      -0.004       0.024\n",
       "expected_time_buy       0.0106      0.016      0.656      0.512      -0.021       0.042\n",
       "expected_time_visit    -0.0334      0.008     -4.313      0.000      -0.049      -0.018\n",
       "last_buy                0.0102      0.005      2.086      0.037       0.001       0.020\n",
       "last_visit             -0.0635      0.006    -10.851      0.000      -0.075      -0.052\n",
       "multiple_buy          -22.6427   6.48e+04     -0.000      1.000   -1.27e+05    1.27e+05\n",
       "multiple_visit         -0.1607      0.213     -0.755      0.450      -0.578       0.257\n",
       "uniq_urls              -0.0103      0.002     -6.443      0.000      -0.013      -0.007\n",
       "num_checkins         8.671e-05   8.28e-05      1.048      0.295   -7.55e-05       0.000\n",
       "=======================================================================================\n",
       "\n",
       "Possibly complete quasi-separation: A fraction 0.13 of observations can be\n",
       "perfectly predicted. This might indicate that there is complete\n",
       "quasi-separation. In this case some parameters will not be identified.\n",
       "\"\"\""
      ]
     },
     "execution_count": 5,
     "metadata": {},
     "output_type": "execute_result"
    }
   ],
   "source": [
    "#Use statsmodel if you want to understand the fit statistics of the LR model\n",
    "lr_fit.summary()"
   ]
  },
  {
   "cell_type": "markdown",
   "metadata": {},
   "source": [
    "<p>\n",
    "<b>A Practical Aside</b><br><br>\n",
    "\n",
    "What exactly does the estimate of $\\beta$ really mean? How can we interpret it?<br><br>\n",
    "\n",
    "Recall that $Ln \\frac{p}{1-p}=\\alpha+\\beta x$. This means that a unit change in the value of $x$ changes the log-odds by the value of $\\beta$. This is a mathematical statement that IMHO does not offer much intuitive value.<br><br>\n",
    "\n",
    "<center><span style=\"color:red\">So what can we learn by looking at betas? (IMHO, not much!)</span></center><br><Br>\n",
    "<b>Some helpful tips, garnered from theory and experience:</b>\n",
    "<ul>\n",
    "<li>$|\\beta_1|>|\\beta_2|$ does not guarantee that feature $X_1$ is more predictive than $X_2$. The magnitude of $\\beta$ is inversely proportional to the scale of $X$, so comparing betas only makes sense when the features have the same scale (such as binary features).</li><br>\n",
    "<li>Likewise, the z-score of $\\beta$ is influences by sample size and should not be used to rank features by predictiveness</li><br>\n",
    "<li>sign($\\beta$) does tell you whether $Y$ is positively or negatively correlated with $X$. However, if the features have a lot of multi-collinearity, sign($\\beta$) can be misleading.</li><br>\n",
    "<li>Multi-collinearity in $X$ means the betas will have covariance with each other. The betas will \"split\" the effect. Sometimes they'll split the effect as positive numbers (i.e. 1=0.5+0.5) and other times they'll split as negatives (i.e., 1=2-1). This makes interpreting $\\beta$ that much more difficult.\n",
    "</ul>\n",
    "\n",
    "</p>"
   ]
  },
  {
   "cell_type": "markdown",
   "metadata": {},
   "source": [
    "## Example 2 - Robustness"
   ]
  },
  {
   "cell_type": "markdown",
   "metadata": {},
   "source": [
    "<p>In this example we test the sensitivity of out-of-sample performance to training set sample size. Our goal is to plot test-set $AUC$ as a function of $N$, the number of samples in the training set. Because we expect a lot of variance in the lower range of $N$, we use bootstrap algorithm to compute standard errors of AUC measurements.<br><br>\n",
    "\n",
    "<b>To Bootstrap:</b>\n",
    "<ul>\n",
    "    <li>Generate $k$ training sets of size $N$, where we sample from original training set with replacement.</li>\n",
    "    <li>Compute and store the AUC on the test set for each bootstrapped sample</li>\n",
    "    <li>Get Mean and Standard Error of bootstrapped AUC estimates</li>\n",
    "</ul>\n",
    "\n",
    "\n",
    "</p>"
   ]
  },
  {
   "cell_type": "code",
   "execution_count": 6,
   "metadata": {
    "collapsed": false
   },
   "outputs": [
    {
     "data": {
      "text/plain": [
       "Text(0,0.5,'Test Set AUC')"
      ]
     },
     "execution_count": 6,
     "metadata": {},
     "output_type": "execute_result"
    },
    {
     "data": {
      "image/png": "[encoded data removed]",
      "text/plain": [
       "<Figure size 1200x800 with 1 Axes>"
      ]
     },
     "metadata": {},
     "output_type": "display_data"
    }
   ],
   "source": [
    "'''\n",
    "The datasets train and test are defined in the above examples.\n",
    "'''\n",
    "\n",
    "target='y_buy'\n",
    "\n",
    "def modAUC(X_train, Y_train, X_test, Y_test):\n",
    "    '''\n",
    "    trains a model on train set and returns AUC on test set\n",
    "    '''\n",
    "    logreg = linear_model.LogisticRegression(C = 10)\n",
    "    logreg.fit(X_train, Y_train)\n",
    "    return roc_auc_score(Y_test, logreg.predict_proba(X_test)[:, 1])\n",
    "\n",
    "def LrBootstrapper(train, test, nruns, sampsize):\n",
    "    '''\n",
    "    Samples with replacement, runs multiple train/eval attempts\n",
    "    returns mean and stdev of AUC\n",
    "    '''\n",
    "    auc_res = []\n",
    "    for i in range(nruns):\n",
    "        train_samp = train.loc[np.random.randint(0, len(train), size=sampsize)]\n",
    "        try:\n",
    "            auc_res.append(modAUC(train_samp.drop(target,1), train_samp[target], test.drop(target,1), test[target]))\n",
    "        except:\n",
    "            oops = 1\n",
    "    return (np.mean(auc_res), np.percentile(auc_res, 2.5), np.percentile(auc_res, 97.5))\n",
    "            \n",
    "#Run the analysis  \n",
    "n_seq = np.logspace(3, 7, base=2.0, num=30)\n",
    "\n",
    "avg = []; lowers = []; uppers = []; sz = []\n",
    "for n in n_seq:\n",
    "    mu, low, up =LrBootstrapper(train, test, 500, int(n))\n",
    "    avg.append(mu)\n",
    "    lowers.append(low)\n",
    "    uppers.append(up)\n",
    "    sz.append(n)    \n",
    "\n",
    "    \n",
    "\n",
    "\n",
    "#Plot the analysis\n",
    "#lower = np.ones(len(avg)) * (avg[len(avg)-1]-1.96*stderr[len(avg)-1])\n",
    "\n",
    "fig = plt.figure(figsize = (12, 8))\n",
    "ax = fig.add_subplot(111)\n",
    "plt.title('Bootstrapped AUC + Confidence Limits \\n as a Function of N Samples')\n",
    "plt.plot(np.log2(n_seq), np.array(avg), label='Avg AUC')\n",
    "#plt.plot(np.log2(n_seq), np.array(avg) + 1.96 * np.array(stderr), 'k--+', label = 'Upper 95% CI')\n",
    "#plt.plot(np.log2(n_seq), np.array(avg) - 1.96 * np.array(stderr), 'k--', label = 'Lower 95% CI')\n",
    "\n",
    "plt.plot(np.log2(n_seq), np.array(uppers), 'k--+', label = 'Upper 95% CI')\n",
    "plt.plot(np.log2(n_seq), np.array(lowers), 'k--', label = 'Lower 95% CI')\n",
    "\n",
    "#plt.plot(np.log2(n_seq), lower,'r-')\n",
    "\n",
    "plt.legend(loc = 4)\n",
    "ax.set_xlabel('Log2(N)')\n",
    "ax.set_ylabel('Test Set AUC')"
   ]
  },
  {
   "cell_type": "markdown",
   "metadata": {},
   "source": [
    "<p>We can see in the above plot that Logistic Regression does fairly well with small sample sizes. The lower bound of the $95%$ at the $max(N)$ overlaps with the confidence interval at most levels of $N$, suggesting that in expectation, the smaller samples could perform as well as the larger samples.<br><br>\n",
    "\n",
    "While this is true, always try to use as much data as you can to reduce the variance!\n",
    "\n",
    "</p> "
   ]
  }
 ],
 "metadata": {
  "anaconda-cloud": {},
  "kernelspec": {
   "display_name": "Python 3",
   "language": "python",
   "name": "python3"
  },
  "language_info": {
   "codemirror_mode": {
    "name": "ipython",
    "version": 3
   },
   "file_extension": ".py",
   "mimetype": "text/x-python",
   "name": "python",
   "nbconvert_exporter": "python",
   "pygments_lexer": "ipython3",
   "version": "3.5.2"
  }
 },
 "nbformat": 4,
 "nbformat_minor": 0
}
