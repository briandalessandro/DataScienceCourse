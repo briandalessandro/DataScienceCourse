{
 "cells": [
  {
   "cell_type": "code",
   "execution_count": 1,
   "metadata": {
    "collapsed": false
   },
   "outputs": [],
   "source": [
    "'''\n",
    "The core data type in Numpy is the ndarray, which enables fast and space-efficient multidimensional array processing.\n",
    "Note: This notebook is adapted from chapter 4 Python for Data Analysis by Wes McKinney and O'Reilly publishing. NumPy has many, \n",
    "many features that won't be covered here. The following snippets are just to illustrate basic data types and operations within\n",
    "numpy.\n",
    "\n",
    "Another good resource for learning more about ndarrays is here:\n",
    "http://docs.scipy.org/doc/numpy/reference/arrays.html\n",
    "'''\n",
    "\n",
    "#First, import NumPy\n",
    "import numpy as np\n",
    "\n",
    "#It is easy to create Nx1 and NxM arrays from standard Python lists\n",
    "l1 = [0,1,2]\n",
    "l2 = [3,4,5]\n",
    "\n",
    "nd1 = np.array(l1)\n",
    "nd2 = np.array([l1,  l2])"
   ]
  },
  {
   "cell_type": "code",
   "execution_count": 2,
   "metadata": {
    "collapsed": false
   },
   "outputs": [
    {
     "name": "stdout",
     "output_type": "stream",
     "text": [
      "The ndarray has dimension n=3 and m=1\n",
      "The ndarray has elements of type=int64\n",
      "The ndarray has dimension n=2 and m=3\n",
      "The ndarray has elements of type=int64\n"
     ]
    }
   ],
   "source": [
    "#Now, we can get ask for some basic info to describe the ndarray\n",
    "def desc_ndarray(nd):\n",
    "    try:\n",
    "        print(\"The ndarray has dimension n=%s and m=%s\" % (nd.shape[0],nd.shape[1]))\n",
    "    except:\n",
    "        print(\"The ndarray has dimension n=%s and m=1\" % nd.shape[0])\n",
    "    print(\"The ndarray has elements of type=%s\" % nd.dtype)\n",
    "\n",
    "desc_ndarray(nd1)\n",
    "\n",
    "desc_ndarray(nd2)\n",
    "\n"
   ]
  },
  {
   "cell_type": "code",
   "execution_count": 3,
   "metadata": {
    "collapsed": false
   },
   "outputs": [
    {
     "data": {
      "text/plain": [
       "[array([ 0.,  0.,  0.,  0.]),\n",
       " array([ 1.,  1.,  1.,  1.]),\n",
       " array([ 0.74818028,  1.24615356,  1.08939822,  0.12654923])]"
      ]
     },
     "execution_count": 3,
     "metadata": {},
     "output_type": "execute_result"
    }
   ],
   "source": [
    "#There are short cuts for creating certain frequently used special ndarrays, i.e.,\n",
    "\n",
    "k=4\n",
    "\n",
    "#1. an ndarray of all zeros\n",
    "zero = np.zeros(k)\n",
    "\n",
    "#2. an ndarray of all ones\n",
    "one = np.ones(k)\n",
    "\n",
    "#3. an ndarray of random elements (this one is standard normal, but there are many distributions to choose from)\n",
    "rand = np.random.randn(k)\n",
    "\n",
    "[zero, one, rand]"
   ]
  },
  {
   "cell_type": "code",
   "execution_count": 4,
   "metadata": {
    "collapsed": false
   },
   "outputs": [
    {
     "data": {
      "text/plain": [
       "[array([[ 1.07847242,  2.36805385],\n",
       "        [ 0.55727101,  1.91780834],\n",
       "        [-0.35878861, -0.3653503 ],\n",
       "        [-0.55527585,  0.33625741]]),\n",
       " array([ 0.55727101,  1.91780834]),\n",
       " 1.9178083428106623]"
      ]
     },
     "execution_count": 4,
     "metadata": {},
     "output_type": "execute_result"
    }
   ],
   "source": [
    "'''\n",
    "For indexing an array:\n",
    "1. If nx1 array, follow the same protocol as a regular Python list\n",
    "2. If nxm array use the following examples\n",
    "'''\n",
    "\n",
    "arr2d = np.random.randn(4,2)\n",
    "\n",
    "#A single index gets a full row\n",
    "\n",
    "#2 indexes returns a value\n",
    "[arr2d, arr2d[1],  arr2d[1,1]]"
   ]
  },
  {
   "cell_type": "code",
   "execution_count": 5,
   "metadata": {
    "collapsed": false
   },
   "outputs": [
    {
     "data": {
      "text/plain": [
       "[array([-0.9355633 ,  0.29723855, -0.20369969,  0.02445605]),\n",
       " array([-1.8711266 ,  0.59447709, -0.40739938,  0.04891209]),\n",
       " array([-1.8711266 ,  0.59447709, -0.40739938,  0.04891209]),\n",
       " array([-0.,  0., -0.,  0.])]"
      ]
     },
     "execution_count": 5,
     "metadata": {},
     "output_type": "execute_result"
    }
   ],
   "source": [
    "'''\n",
    "Operations between Arrays and Scalars\n",
    "An important feature of ndarrays is they allow batch operations on data without writing any for loops.  \n",
    "This is called vectorization.\n",
    "Any arithmetic operations between equal-size arrays applies the operation elementwise. \n",
    "'''\n",
    "\n",
    "#examples\n",
    "\n",
    "k = 4\n",
    "rand = np.random.randn(k)\n",
    "[rand, rand + rand, 2*rand, rand*np.zeros(4)]\n",
    "\n"
   ]
  },
  {
   "cell_type": "code",
   "execution_count": 5,
   "metadata": {
    "collapsed": false
   },
   "outputs": [
    {
     "data": {
      "text/plain": [
       "[array([-1.36993101,  0.24184886,  1.2654663 ]),\n",
       " array([ 0.18157553, -0.5998835 , -0.9760836 ]),\n",
       " array([-1.18835549, -0.35803464,  0.2893827 ])]"
      ]
     },
     "execution_count": 5,
     "metadata": {},
     "output_type": "execute_result"
    }
   ],
   "source": [
    "'''\n",
    "Matrix operations\n",
    "It is easy to do matrix operations with Nd arrays. The standard arithmetic operators don't work here though. And it is important \n",
    "to make sure matrix shapes are compatible\n",
    "'''\n",
    "\n",
    "k = 3\n",
    "r1 = np.random.randn(k)\n",
    "r2 = np.random.randn(k)\n",
    "\n",
    "#Matrix addition is the standard matrix operator\n",
    "[r1, r2 , r1 + r2]\n"
   ]
  },
  {
   "cell_type": "code",
   "execution_count": 6,
   "metadata": {
    "collapsed": false
   },
   "outputs": [
    {
     "data": {
      "text/plain": [
       "[array([[-1.36993101,  0.24184886,  1.2654663 ],\n",
       "        [ 0.18157553, -0.5998835 , -0.9760836 ]]),\n",
       " array([[-1.36993101,  0.18157553],\n",
       "        [ 0.24184886, -0.5998835 ],\n",
       "        [ 1.2654663 , -0.9760836 ]])]"
      ]
     },
     "execution_count": 6,
     "metadata": {},
     "output_type": "execute_result"
    }
   ],
   "source": [
    "#The Transpose can be taken with the attribute T\n",
    "arr2d = np.array([r1, r2])\n",
    "[arr2d, arr2d.T]"
   ]
  },
  {
   "cell_type": "code",
   "execution_count": 7,
   "metadata": {
    "collapsed": false
   },
   "outputs": [
    {
     "data": {
      "text/plain": [
       "[array([[-1.36993101,  0.24184886,  1.2654663 ],\n",
       "        [ 0.18157553, -0.5998835 , -0.9760836 ]]),\n",
       " array([[ 1.87671098,  0.05849087,  1.60140495],\n",
       "        [ 0.03296967,  0.35986021,  0.95273919]]),\n",
       " array([[ 3.5366068 , -1.62902798],\n",
       "        [-1.62902798,  1.34556908]])]"
      ]
     },
     "execution_count": 7,
     "metadata": {},
     "output_type": "execute_result"
    }
   ],
   "source": [
    "'''\n",
    "Matrix multiplication, like inner products can be done on arrays.\n",
    "Just remember that the standard multiplication operator does elementwise multiplication (provided they are the same shape).\n",
    "We need the dot method in order to do an inner product\n",
    "\n",
    "Numpy has a linalg library that can run most matrix operations on ndarrays:\n",
    "http://docs.scipy.org/doc/numpy/reference/routines.linalg.html\n",
    "\n",
    "One can also create a matrix object and use the methods in numpy.matrix to achieve the same thing:\n",
    "http://docs.scipy.org/doc/numpy/reference/generated/numpy.matrix.html\n",
    "'''\n",
    "\n",
    "[arr2d, arr2d * arr2d, arr2d.dot(arr2d.T)]"
   ]
  },
  {
   "cell_type": "code",
   "execution_count": 8,
   "metadata": {
    "collapsed": false
   },
   "outputs": [
    {
     "name": "stdout",
     "output_type": "stream",
     "text": [
      "10000 loops, best of 3: 174 µs per loop\n"
     ]
    }
   ],
   "source": [
    "'''\n",
    "One important feature of vectorization is that it allows elementwise processing that is much faster than writing a traditional\n",
    "loop.\n",
    "'''\n",
    "import math\n",
    "\n",
    "#show an example and profile i\n",
    "%timeit [math.sqrt(x) for x in range(1000)]"
   ]
  },
  {
   "cell_type": "code",
   "execution_count": 9,
   "metadata": {
    "collapsed": false
   },
   "outputs": [
    {
     "name": "stdout",
     "output_type": "stream",
     "text": [
      "The slowest run took 7.43 times longer than the fastest. This could mean that an intermediate result is being cached.\n",
      "100000 loops, best of 3: 5.98 µs per loop\n"
     ]
    }
   ],
   "source": [
    "%timeit np.sqrt(np.arange(1000))"
   ]
  },
  {
   "cell_type": "code",
   "execution_count": null,
   "metadata": {
    "collapsed": true
   },
   "outputs": [],
   "source": []
  },
  {
   "cell_type": "code",
   "execution_count": 10,
   "metadata": {
    "collapsed": true
   },
   "outputs": [],
   "source": [
    "'''\n",
    "The last thing we'll cover in this module is the numpy.random library. In general, it is advised to use numpy for\n",
    "random number generation as opposed to python's built in random module.\n",
    "\n",
    "Random number generation has many uses. One common use is generating fake (i.e. random) data to test modeling procedures\n",
    "or to do Monte Carlo Simulations\n",
    "'''\n",
    "import matplotlib.pyplot as plt\n",
    "%matplotlib inline\n"
   ]
  },
  {
   "cell_type": "code",
   "execution_count": 11,
   "metadata": {
    "collapsed": true
   },
   "outputs": [],
   "source": [
    "\n",
    "\n",
    "#Generate random pairs that have a multivariate normal distribution\n",
    "N = 1000\n",
    "mu = np.array([0,0])\n",
    "cov = 0.5\n",
    "sig = np.array([[1, cov],[cov, 1]]) #Must be square, symmetric and non-negative definite"
   ]
  },
  {
   "cell_type": "code",
   "execution_count": 13,
   "metadata": {
    "collapsed": true
   },
   "outputs": [],
   "source": [
    "x, y = np.random.multivariate_normal(mu, sig, N).T\n"
   ]
  },
  {
   "cell_type": "code",
   "execution_count": 15,
   "metadata": {
    "collapsed": false
   },
   "outputs": [
    {
     "data": {
      "image/png": "[encoded data removed]",
      "text/plain": [
       "<matplotlib.figure.Figure at 0x107496208>"
      ]
     },
     "metadata": {},
     "output_type": "display_data"
    }
   ],
   "source": [
    "\n",
    "#Now let's plot and see what that looks like\n",
    "\n",
    "\n",
    "plt.plot(x, y,'.') \n",
    "plt.axis('equal') \n",
    "plt.show()\n",
    "\n"
   ]
  },
  {
   "cell_type": "code",
   "execution_count": 16,
   "metadata": {
    "collapsed": false
   },
   "outputs": [
    {
     "data": {
      "image/png": "[encoded data removed]",
      "text/plain": [
       "<matplotlib.figure.Figure at 0x107601198>"
      ]
     },
     "metadata": {},
     "output_type": "display_data"
    }
   ],
   "source": [
    "'''\n",
    "One final example (taken from Wes Mckinney's book):\n",
    "\n",
    "Let's generate a random walk and visualize it\n",
    "'''\n",
    "\n",
    "nsteps = 1000\n",
    "draws = np.random.randint(0, 2, size = nsteps) #Randint let's us generate random integers in a range\n",
    "steps = np.where(draws > 0, 1, -1) #there function let's us do boolean logic on a conditional applied to an entire array\n",
    "walk = steps.cumsum() #Cumsum returns an array with the same size as steps, that has cum sum of steps up to index i\n",
    "plt.plot(np.arange(len(walk)), walk)\n",
    "plt.show()"
   ]
  },
  {
   "cell_type": "code",
   "execution_count": 30,
   "metadata": {
    "collapsed": false
   },
   "outputs": [],
   "source": []
  },
  {
   "cell_type": "code",
   "execution_count": null,
   "metadata": {
    "collapsed": false
   },
   "outputs": [],
   "source": []
  }
 ],
 "metadata": {
  "kernelspec": {
   "display_name": "Python 3",
   "language": "python",
   "name": "python3"
  },
  "language_info": {
   "codemirror_mode": {
    "name": "ipython",
    "version": 3
   },
   "file_extension": ".py",
   "mimetype": "text/x-python",
   "name": "python",
   "nbconvert_exporter": "python",
   "pygments_lexer": "ipython3",
   "version": "3.5.2"
  }
 },
 "nbformat": 4,
 "nbformat_minor": 0
}
